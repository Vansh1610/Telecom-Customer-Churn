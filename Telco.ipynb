{
 "cells": [
  {
   "cell_type": "markdown",
   "metadata": {},
   "source": [
    "# Telecom Customer Churn"
   ]
  },
  {
   "cell_type": "markdown",
   "metadata": {},
   "source": [
    "### Importing the libraries"
   ]
  },
  {
   "cell_type": "code",
   "execution_count": 84,
   "metadata": {},
   "outputs": [],
   "source": [
    "# importing the necessary libraries\n",
    "import numpy as np\n",
    "import pandas as pd\n",
    "import matplotlib.pyplot as plt\n",
    "import seaborn as sns\n",
    "sns.set_style(\"whitegrid\")\n",
    "import warnings\n",
    "warnings.simplefilter(\"ignore\")\n",
    "%matplotlib inline\n",
    "\n",
    "data=pd.read_csv(\"Churn (1).csv\")"
   ]
  },
  {
   "cell_type": "markdown",
   "metadata": {},
   "source": [
    "### Understanding the data"
   ]
  },
  {
   "cell_type": "code",
   "execution_count": 85,
   "metadata": {},
   "outputs": [
    {
     "data": {
      "text/html": [
       "<div>\n",
       "<style scoped>\n",
       "    .dataframe tbody tr th:only-of-type {\n",
       "        vertical-align: middle;\n",
       "    }\n",
       "\n",
       "    .dataframe tbody tr th {\n",
       "        vertical-align: top;\n",
       "    }\n",
       "\n",
       "    .dataframe thead th {\n",
       "        text-align: right;\n",
       "    }\n",
       "</style>\n",
       "<table border=\"1\" class=\"dataframe\">\n",
       "  <thead>\n",
       "    <tr style=\"text-align: right;\">\n",
       "      <th></th>\n",
       "      <th>customerID</th>\n",
       "      <th>gender</th>\n",
       "      <th>SeniorCitizen</th>\n",
       "      <th>Partner</th>\n",
       "      <th>Dependents</th>\n",
       "      <th>tenure</th>\n",
       "      <th>PhoneService</th>\n",
       "      <th>MultipleLines</th>\n",
       "      <th>InternetService</th>\n",
       "      <th>OnlineSecurity</th>\n",
       "      <th>...</th>\n",
       "      <th>DeviceProtection</th>\n",
       "      <th>TechSupport</th>\n",
       "      <th>StreamingTV</th>\n",
       "      <th>StreamingMovies</th>\n",
       "      <th>Contract</th>\n",
       "      <th>PaperlessBilling</th>\n",
       "      <th>PaymentMethod</th>\n",
       "      <th>MonthlyCharges</th>\n",
       "      <th>TotalCharges</th>\n",
       "      <th>Churn</th>\n",
       "    </tr>\n",
       "  </thead>\n",
       "  <tbody>\n",
       "    <tr>\n",
       "      <th>0</th>\n",
       "      <td>7590-VHVEG</td>\n",
       "      <td>Female</td>\n",
       "      <td>0</td>\n",
       "      <td>Yes</td>\n",
       "      <td>No</td>\n",
       "      <td>1</td>\n",
       "      <td>No</td>\n",
       "      <td>No phone service</td>\n",
       "      <td>DSL</td>\n",
       "      <td>No</td>\n",
       "      <td>...</td>\n",
       "      <td>No</td>\n",
       "      <td>No</td>\n",
       "      <td>No</td>\n",
       "      <td>No</td>\n",
       "      <td>Month-to-month</td>\n",
       "      <td>Yes</td>\n",
       "      <td>Electronic check</td>\n",
       "      <td>29.85</td>\n",
       "      <td>29.85</td>\n",
       "      <td>No</td>\n",
       "    </tr>\n",
       "    <tr>\n",
       "      <th>1</th>\n",
       "      <td>5575-GNVDE</td>\n",
       "      <td>Male</td>\n",
       "      <td>0</td>\n",
       "      <td>No</td>\n",
       "      <td>No</td>\n",
       "      <td>34</td>\n",
       "      <td>Yes</td>\n",
       "      <td>No</td>\n",
       "      <td>DSL</td>\n",
       "      <td>Yes</td>\n",
       "      <td>...</td>\n",
       "      <td>Yes</td>\n",
       "      <td>No</td>\n",
       "      <td>No</td>\n",
       "      <td>No</td>\n",
       "      <td>One year</td>\n",
       "      <td>No</td>\n",
       "      <td>Mailed check</td>\n",
       "      <td>56.95</td>\n",
       "      <td>1889.50</td>\n",
       "      <td>No</td>\n",
       "    </tr>\n",
       "    <tr>\n",
       "      <th>2</th>\n",
       "      <td>3668-QPYBK</td>\n",
       "      <td>Male</td>\n",
       "      <td>0</td>\n",
       "      <td>No</td>\n",
       "      <td>No</td>\n",
       "      <td>2</td>\n",
       "      <td>Yes</td>\n",
       "      <td>No</td>\n",
       "      <td>DSL</td>\n",
       "      <td>Yes</td>\n",
       "      <td>...</td>\n",
       "      <td>No</td>\n",
       "      <td>No</td>\n",
       "      <td>No</td>\n",
       "      <td>No</td>\n",
       "      <td>Month-to-month</td>\n",
       "      <td>Yes</td>\n",
       "      <td>Mailed check</td>\n",
       "      <td>53.85</td>\n",
       "      <td>108.15</td>\n",
       "      <td>Yes</td>\n",
       "    </tr>\n",
       "    <tr>\n",
       "      <th>3</th>\n",
       "      <td>7795-CFOCW</td>\n",
       "      <td>Male</td>\n",
       "      <td>0</td>\n",
       "      <td>No</td>\n",
       "      <td>No</td>\n",
       "      <td>45</td>\n",
       "      <td>No</td>\n",
       "      <td>No phone service</td>\n",
       "      <td>DSL</td>\n",
       "      <td>Yes</td>\n",
       "      <td>...</td>\n",
       "      <td>Yes</td>\n",
       "      <td>Yes</td>\n",
       "      <td>No</td>\n",
       "      <td>No</td>\n",
       "      <td>One year</td>\n",
       "      <td>No</td>\n",
       "      <td>Bank transfer (automatic)</td>\n",
       "      <td>42.30</td>\n",
       "      <td>1840.75</td>\n",
       "      <td>No</td>\n",
       "    </tr>\n",
       "    <tr>\n",
       "      <th>4</th>\n",
       "      <td>9237-HQITU</td>\n",
       "      <td>Female</td>\n",
       "      <td>0</td>\n",
       "      <td>No</td>\n",
       "      <td>No</td>\n",
       "      <td>2</td>\n",
       "      <td>Yes</td>\n",
       "      <td>No</td>\n",
       "      <td>Fiber optic</td>\n",
       "      <td>No</td>\n",
       "      <td>...</td>\n",
       "      <td>No</td>\n",
       "      <td>No</td>\n",
       "      <td>No</td>\n",
       "      <td>No</td>\n",
       "      <td>Month-to-month</td>\n",
       "      <td>Yes</td>\n",
       "      <td>Electronic check</td>\n",
       "      <td>70.70</td>\n",
       "      <td>151.65</td>\n",
       "      <td>Yes</td>\n",
       "    </tr>\n",
       "  </tbody>\n",
       "</table>\n",
       "<p>5 rows × 21 columns</p>\n",
       "</div>"
      ],
      "text/plain": [
       "   customerID  gender  SeniorCitizen Partner Dependents  tenure PhoneService  \\\n",
       "0  7590-VHVEG  Female              0     Yes         No       1           No   \n",
       "1  5575-GNVDE    Male              0      No         No      34          Yes   \n",
       "2  3668-QPYBK    Male              0      No         No       2          Yes   \n",
       "3  7795-CFOCW    Male              0      No         No      45           No   \n",
       "4  9237-HQITU  Female              0      No         No       2          Yes   \n",
       "\n",
       "      MultipleLines InternetService OnlineSecurity  ... DeviceProtection  \\\n",
       "0  No phone service             DSL             No  ...               No   \n",
       "1                No             DSL            Yes  ...              Yes   \n",
       "2                No             DSL            Yes  ...               No   \n",
       "3  No phone service             DSL            Yes  ...              Yes   \n",
       "4                No     Fiber optic             No  ...               No   \n",
       "\n",
       "  TechSupport StreamingTV StreamingMovies        Contract PaperlessBilling  \\\n",
       "0          No          No              No  Month-to-month              Yes   \n",
       "1          No          No              No        One year               No   \n",
       "2          No          No              No  Month-to-month              Yes   \n",
       "3         Yes          No              No        One year               No   \n",
       "4          No          No              No  Month-to-month              Yes   \n",
       "\n",
       "               PaymentMethod MonthlyCharges  TotalCharges  Churn  \n",
       "0           Electronic check          29.85         29.85     No  \n",
       "1               Mailed check          56.95       1889.50     No  \n",
       "2               Mailed check          53.85        108.15    Yes  \n",
       "3  Bank transfer (automatic)          42.30       1840.75     No  \n",
       "4           Electronic check          70.70        151.65    Yes  \n",
       "\n",
       "[5 rows x 21 columns]"
      ]
     },
     "execution_count": 85,
     "metadata": {},
     "output_type": "execute_result"
    }
   ],
   "source": [
    "data.head()"
   ]
  },
  {
   "cell_type": "code",
   "execution_count": 3,
   "metadata": {},
   "outputs": [
    {
     "name": "stdout",
     "output_type": "stream",
     "text": [
      "<class 'pandas.core.frame.DataFrame'>\n",
      "RangeIndex: 7043 entries, 0 to 7042\n",
      "Data columns (total 21 columns):\n",
      " #   Column            Non-Null Count  Dtype  \n",
      "---  ------            --------------  -----  \n",
      " 0   customerID        7043 non-null   object \n",
      " 1   gender            7043 non-null   object \n",
      " 2   SeniorCitizen     7043 non-null   int64  \n",
      " 3   Partner           7043 non-null   object \n",
      " 4   Dependents        7043 non-null   object \n",
      " 5   tenure            7043 non-null   int64  \n",
      " 6   PhoneService      7043 non-null   object \n",
      " 7   MultipleLines     7043 non-null   object \n",
      " 8   InternetService   7043 non-null   object \n",
      " 9   OnlineSecurity    7043 non-null   object \n",
      " 10  OnlineBackup      7043 non-null   object \n",
      " 11  DeviceProtection  7043 non-null   object \n",
      " 12  TechSupport       7043 non-null   object \n",
      " 13  StreamingTV       7043 non-null   object \n",
      " 14  StreamingMovies   7043 non-null   object \n",
      " 15  Contract          7043 non-null   object \n",
      " 16  PaperlessBilling  7043 non-null   object \n",
      " 17  PaymentMethod     7043 non-null   object \n",
      " 18  MonthlyCharges    7043 non-null   float64\n",
      " 19  TotalCharges      7032 non-null   float64\n",
      " 20  Churn             7043 non-null   object \n",
      "dtypes: float64(2), int64(2), object(17)\n",
      "memory usage: 1.1+ MB\n"
     ]
    }
   ],
   "source": [
    "data.info()"
   ]
  },
  {
   "cell_type": "markdown",
   "metadata": {},
   "source": [
    "Rows:7043\n",
    "\n",
    "Columns:21\n",
    "\n",
    "Total Categorical Features:17\n",
    "\n",
    "Total Numerical Features:4\n",
    "\n",
    "Missing values:11 in totalcharges"
   ]
  },
  {
   "cell_type": "code",
   "execution_count": 4,
   "metadata": {},
   "outputs": [
    {
     "data": {
      "text/html": [
       "<div>\n",
       "<style scoped>\n",
       "    .dataframe tbody tr th:only-of-type {\n",
       "        vertical-align: middle;\n",
       "    }\n",
       "\n",
       "    .dataframe tbody tr th {\n",
       "        vertical-align: top;\n",
       "    }\n",
       "\n",
       "    .dataframe thead th {\n",
       "        text-align: right;\n",
       "    }\n",
       "</style>\n",
       "<table border=\"1\" class=\"dataframe\">\n",
       "  <thead>\n",
       "    <tr style=\"text-align: right;\">\n",
       "      <th></th>\n",
       "      <th>SeniorCitizen</th>\n",
       "      <th>tenure</th>\n",
       "      <th>MonthlyCharges</th>\n",
       "      <th>TotalCharges</th>\n",
       "    </tr>\n",
       "  </thead>\n",
       "  <tbody>\n",
       "    <tr>\n",
       "      <th>count</th>\n",
       "      <td>7043.000000</td>\n",
       "      <td>7043.000000</td>\n",
       "      <td>7043.000000</td>\n",
       "      <td>7032.000000</td>\n",
       "    </tr>\n",
       "    <tr>\n",
       "      <th>mean</th>\n",
       "      <td>0.162147</td>\n",
       "      <td>32.371149</td>\n",
       "      <td>64.761692</td>\n",
       "      <td>2283.300441</td>\n",
       "    </tr>\n",
       "    <tr>\n",
       "      <th>std</th>\n",
       "      <td>0.368612</td>\n",
       "      <td>24.559481</td>\n",
       "      <td>30.090047</td>\n",
       "      <td>2266.771362</td>\n",
       "    </tr>\n",
       "    <tr>\n",
       "      <th>min</th>\n",
       "      <td>0.000000</td>\n",
       "      <td>0.000000</td>\n",
       "      <td>18.250000</td>\n",
       "      <td>18.800000</td>\n",
       "    </tr>\n",
       "    <tr>\n",
       "      <th>25%</th>\n",
       "      <td>0.000000</td>\n",
       "      <td>9.000000</td>\n",
       "      <td>35.500000</td>\n",
       "      <td>401.450000</td>\n",
       "    </tr>\n",
       "    <tr>\n",
       "      <th>50%</th>\n",
       "      <td>0.000000</td>\n",
       "      <td>29.000000</td>\n",
       "      <td>70.350000</td>\n",
       "      <td>1397.475000</td>\n",
       "    </tr>\n",
       "    <tr>\n",
       "      <th>75%</th>\n",
       "      <td>0.000000</td>\n",
       "      <td>55.000000</td>\n",
       "      <td>89.850000</td>\n",
       "      <td>3794.737500</td>\n",
       "    </tr>\n",
       "    <tr>\n",
       "      <th>max</th>\n",
       "      <td>1.000000</td>\n",
       "      <td>72.000000</td>\n",
       "      <td>118.750000</td>\n",
       "      <td>8684.800000</td>\n",
       "    </tr>\n",
       "  </tbody>\n",
       "</table>\n",
       "</div>"
      ],
      "text/plain": [
       "       SeniorCitizen       tenure  MonthlyCharges  TotalCharges\n",
       "count    7043.000000  7043.000000     7043.000000   7032.000000\n",
       "mean        0.162147    32.371149       64.761692   2283.300441\n",
       "std         0.368612    24.559481       30.090047   2266.771362\n",
       "min         0.000000     0.000000       18.250000     18.800000\n",
       "25%         0.000000     9.000000       35.500000    401.450000\n",
       "50%         0.000000    29.000000       70.350000   1397.475000\n",
       "75%         0.000000    55.000000       89.850000   3794.737500\n",
       "max         1.000000    72.000000      118.750000   8684.800000"
      ]
     },
     "execution_count": 4,
     "metadata": {},
     "output_type": "execute_result"
    }
   ],
   "source": [
    "data.describe()"
   ]
  },
  {
   "cell_type": "markdown",
   "metadata": {},
   "source": [
    "Missing values in the dataset"
   ]
  },
  {
   "cell_type": "code",
   "execution_count": 5,
   "metadata": {},
   "outputs": [
    {
     "data": {
      "text/plain": [
       "customerID           0\n",
       "gender               0\n",
       "SeniorCitizen        0\n",
       "Partner              0\n",
       "Dependents           0\n",
       "tenure               0\n",
       "PhoneService         0\n",
       "MultipleLines        0\n",
       "InternetService      0\n",
       "OnlineSecurity       0\n",
       "OnlineBackup         0\n",
       "DeviceProtection     0\n",
       "TechSupport          0\n",
       "StreamingTV          0\n",
       "StreamingMovies      0\n",
       "Contract             0\n",
       "PaperlessBilling     0\n",
       "PaymentMethod        0\n",
       "MonthlyCharges       0\n",
       "TotalCharges        11\n",
       "Churn                0\n",
       "dtype: int64"
      ]
     },
     "execution_count": 5,
     "metadata": {},
     "output_type": "execute_result"
    }
   ],
   "source": [
    "data.isnull().sum()"
   ]
  },
  {
   "cell_type": "markdown",
   "metadata": {},
   "source": [
    "We can see that there are 11 missing values in the TotalCharges column which account for only 0.15% of the total dataset,so we can drop these 11 rows."
   ]
  },
  {
   "cell_type": "code",
   "execution_count": 6,
   "metadata": {},
   "outputs": [],
   "source": [
    "data1=data.dropna()"
   ]
  },
  {
   "cell_type": "code",
   "execution_count": 7,
   "metadata": {},
   "outputs": [
    {
     "data": {
      "text/plain": [
       "(7032, 21)"
      ]
     },
     "execution_count": 7,
     "metadata": {},
     "output_type": "execute_result"
    }
   ],
   "source": [
    "data1.shape"
   ]
  },
  {
   "cell_type": "markdown",
   "metadata": {},
   "source": [
    "### Data Manipulation"
   ]
  },
  {
   "cell_type": "code",
   "execution_count": 8,
   "metadata": {},
   "outputs": [],
   "source": [
    "#label encoding the target column\n",
    "data1.Churn=data1.Churn.map({\"Yes\":1,\"No\":0})"
   ]
  },
  {
   "cell_type": "code",
   "execution_count": 9,
   "metadata": {},
   "outputs": [
    {
     "data": {
      "text/html": [
       "<div>\n",
       "<style scoped>\n",
       "    .dataframe tbody tr th:only-of-type {\n",
       "        vertical-align: middle;\n",
       "    }\n",
       "\n",
       "    .dataframe tbody tr th {\n",
       "        vertical-align: top;\n",
       "    }\n",
       "\n",
       "    .dataframe thead th {\n",
       "        text-align: right;\n",
       "    }\n",
       "</style>\n",
       "<table border=\"1\" class=\"dataframe\">\n",
       "  <thead>\n",
       "    <tr style=\"text-align: right;\">\n",
       "      <th></th>\n",
       "      <th>customerID</th>\n",
       "      <th>gender</th>\n",
       "      <th>SeniorCitizen</th>\n",
       "      <th>Partner</th>\n",
       "      <th>Dependents</th>\n",
       "      <th>tenure</th>\n",
       "      <th>PhoneService</th>\n",
       "      <th>MultipleLines</th>\n",
       "      <th>InternetService</th>\n",
       "      <th>OnlineSecurity</th>\n",
       "      <th>...</th>\n",
       "      <th>DeviceProtection</th>\n",
       "      <th>TechSupport</th>\n",
       "      <th>StreamingTV</th>\n",
       "      <th>StreamingMovies</th>\n",
       "      <th>Contract</th>\n",
       "      <th>PaperlessBilling</th>\n",
       "      <th>PaymentMethod</th>\n",
       "      <th>MonthlyCharges</th>\n",
       "      <th>TotalCharges</th>\n",
       "      <th>Churn</th>\n",
       "    </tr>\n",
       "  </thead>\n",
       "  <tbody>\n",
       "    <tr>\n",
       "      <th>0</th>\n",
       "      <td>7590-VHVEG</td>\n",
       "      <td>Female</td>\n",
       "      <td>0</td>\n",
       "      <td>Yes</td>\n",
       "      <td>No</td>\n",
       "      <td>1</td>\n",
       "      <td>No</td>\n",
       "      <td>No phone service</td>\n",
       "      <td>DSL</td>\n",
       "      <td>No</td>\n",
       "      <td>...</td>\n",
       "      <td>No</td>\n",
       "      <td>No</td>\n",
       "      <td>No</td>\n",
       "      <td>No</td>\n",
       "      <td>Month-to-month</td>\n",
       "      <td>Yes</td>\n",
       "      <td>Electronic check</td>\n",
       "      <td>29.85</td>\n",
       "      <td>29.85</td>\n",
       "      <td>0</td>\n",
       "    </tr>\n",
       "    <tr>\n",
       "      <th>1</th>\n",
       "      <td>5575-GNVDE</td>\n",
       "      <td>Male</td>\n",
       "      <td>0</td>\n",
       "      <td>No</td>\n",
       "      <td>No</td>\n",
       "      <td>34</td>\n",
       "      <td>Yes</td>\n",
       "      <td>No</td>\n",
       "      <td>DSL</td>\n",
       "      <td>Yes</td>\n",
       "      <td>...</td>\n",
       "      <td>Yes</td>\n",
       "      <td>No</td>\n",
       "      <td>No</td>\n",
       "      <td>No</td>\n",
       "      <td>One year</td>\n",
       "      <td>No</td>\n",
       "      <td>Mailed check</td>\n",
       "      <td>56.95</td>\n",
       "      <td>1889.50</td>\n",
       "      <td>0</td>\n",
       "    </tr>\n",
       "    <tr>\n",
       "      <th>2</th>\n",
       "      <td>3668-QPYBK</td>\n",
       "      <td>Male</td>\n",
       "      <td>0</td>\n",
       "      <td>No</td>\n",
       "      <td>No</td>\n",
       "      <td>2</td>\n",
       "      <td>Yes</td>\n",
       "      <td>No</td>\n",
       "      <td>DSL</td>\n",
       "      <td>Yes</td>\n",
       "      <td>...</td>\n",
       "      <td>No</td>\n",
       "      <td>No</td>\n",
       "      <td>No</td>\n",
       "      <td>No</td>\n",
       "      <td>Month-to-month</td>\n",
       "      <td>Yes</td>\n",
       "      <td>Mailed check</td>\n",
       "      <td>53.85</td>\n",
       "      <td>108.15</td>\n",
       "      <td>1</td>\n",
       "    </tr>\n",
       "    <tr>\n",
       "      <th>3</th>\n",
       "      <td>7795-CFOCW</td>\n",
       "      <td>Male</td>\n",
       "      <td>0</td>\n",
       "      <td>No</td>\n",
       "      <td>No</td>\n",
       "      <td>45</td>\n",
       "      <td>No</td>\n",
       "      <td>No phone service</td>\n",
       "      <td>DSL</td>\n",
       "      <td>Yes</td>\n",
       "      <td>...</td>\n",
       "      <td>Yes</td>\n",
       "      <td>Yes</td>\n",
       "      <td>No</td>\n",
       "      <td>No</td>\n",
       "      <td>One year</td>\n",
       "      <td>No</td>\n",
       "      <td>Bank transfer (automatic)</td>\n",
       "      <td>42.30</td>\n",
       "      <td>1840.75</td>\n",
       "      <td>0</td>\n",
       "    </tr>\n",
       "    <tr>\n",
       "      <th>4</th>\n",
       "      <td>9237-HQITU</td>\n",
       "      <td>Female</td>\n",
       "      <td>0</td>\n",
       "      <td>No</td>\n",
       "      <td>No</td>\n",
       "      <td>2</td>\n",
       "      <td>Yes</td>\n",
       "      <td>No</td>\n",
       "      <td>Fiber optic</td>\n",
       "      <td>No</td>\n",
       "      <td>...</td>\n",
       "      <td>No</td>\n",
       "      <td>No</td>\n",
       "      <td>No</td>\n",
       "      <td>No</td>\n",
       "      <td>Month-to-month</td>\n",
       "      <td>Yes</td>\n",
       "      <td>Electronic check</td>\n",
       "      <td>70.70</td>\n",
       "      <td>151.65</td>\n",
       "      <td>1</td>\n",
       "    </tr>\n",
       "  </tbody>\n",
       "</table>\n",
       "<p>5 rows × 21 columns</p>\n",
       "</div>"
      ],
      "text/plain": [
       "   customerID  gender  SeniorCitizen Partner Dependents  tenure PhoneService  \\\n",
       "0  7590-VHVEG  Female              0     Yes         No       1           No   \n",
       "1  5575-GNVDE    Male              0      No         No      34          Yes   \n",
       "2  3668-QPYBK    Male              0      No         No       2          Yes   \n",
       "3  7795-CFOCW    Male              0      No         No      45           No   \n",
       "4  9237-HQITU  Female              0      No         No       2          Yes   \n",
       "\n",
       "      MultipleLines InternetService OnlineSecurity  ... DeviceProtection  \\\n",
       "0  No phone service             DSL             No  ...               No   \n",
       "1                No             DSL            Yes  ...              Yes   \n",
       "2                No             DSL            Yes  ...               No   \n",
       "3  No phone service             DSL            Yes  ...              Yes   \n",
       "4                No     Fiber optic             No  ...               No   \n",
       "\n",
       "  TechSupport StreamingTV StreamingMovies        Contract PaperlessBilling  \\\n",
       "0          No          No              No  Month-to-month              Yes   \n",
       "1          No          No              No        One year               No   \n",
       "2          No          No              No  Month-to-month              Yes   \n",
       "3         Yes          No              No        One year               No   \n",
       "4          No          No              No  Month-to-month              Yes   \n",
       "\n",
       "               PaymentMethod MonthlyCharges  TotalCharges  Churn  \n",
       "0           Electronic check          29.85         29.85      0  \n",
       "1               Mailed check          56.95       1889.50      0  \n",
       "2               Mailed check          53.85        108.15      1  \n",
       "3  Bank transfer (automatic)          42.30       1840.75      0  \n",
       "4           Electronic check          70.70        151.65      1  \n",
       "\n",
       "[5 rows x 21 columns]"
      ]
     },
     "execution_count": 9,
     "metadata": {},
     "output_type": "execute_result"
    }
   ],
   "source": [
    "data1.head()"
   ]
  },
  {
   "cell_type": "markdown",
   "metadata": {},
   "source": [
    "We can group the tenure data into different groups(easy for visualization) and add this as a new column to the dataframe."
   ]
  },
  {
   "cell_type": "code",
   "execution_count": 10,
   "metadata": {},
   "outputs": [],
   "source": [
    "#converting tenure into 6 groups\n",
    "def tenure_grp(x):\n",
    "    if x>0 and x<=12:\n",
    "        return \"tenure_0-1_yr\"\n",
    "    elif x>12 and x<=24:\n",
    "        return \"tenure_1-2_yr\"\n",
    "    elif x>24 and x<=36:\n",
    "        return \"tenure_2-3_yr\"\n",
    "    elif x>36 and x<=48:\n",
    "        return \"tenure_3-4_yr\"\n",
    "    elif x>48 and x<=60:\n",
    "        return \"tenure_4-5_yr\"\n",
    "    elif x>60 and x<=72:\n",
    "        return \"tenure_5-6_yr\""
   ]
  },
  {
   "cell_type": "code",
   "execution_count": 11,
   "metadata": {},
   "outputs": [],
   "source": [
    "data1[\"tenure_grp\"]=data1[\"tenure\"].apply(tenure_grp)"
   ]
  },
  {
   "cell_type": "code",
   "execution_count": 12,
   "metadata": {},
   "outputs": [
    {
     "data": {
      "text/html": [
       "<div>\n",
       "<style scoped>\n",
       "    .dataframe tbody tr th:only-of-type {\n",
       "        vertical-align: middle;\n",
       "    }\n",
       "\n",
       "    .dataframe tbody tr th {\n",
       "        vertical-align: top;\n",
       "    }\n",
       "\n",
       "    .dataframe thead th {\n",
       "        text-align: right;\n",
       "    }\n",
       "</style>\n",
       "<table border=\"1\" class=\"dataframe\">\n",
       "  <thead>\n",
       "    <tr style=\"text-align: right;\">\n",
       "      <th></th>\n",
       "      <th>customerID</th>\n",
       "      <th>gender</th>\n",
       "      <th>SeniorCitizen</th>\n",
       "      <th>Partner</th>\n",
       "      <th>Dependents</th>\n",
       "      <th>tenure</th>\n",
       "      <th>PhoneService</th>\n",
       "      <th>MultipleLines</th>\n",
       "      <th>InternetService</th>\n",
       "      <th>OnlineSecurity</th>\n",
       "      <th>...</th>\n",
       "      <th>TechSupport</th>\n",
       "      <th>StreamingTV</th>\n",
       "      <th>StreamingMovies</th>\n",
       "      <th>Contract</th>\n",
       "      <th>PaperlessBilling</th>\n",
       "      <th>PaymentMethod</th>\n",
       "      <th>MonthlyCharges</th>\n",
       "      <th>TotalCharges</th>\n",
       "      <th>Churn</th>\n",
       "      <th>tenure_grp</th>\n",
       "    </tr>\n",
       "  </thead>\n",
       "  <tbody>\n",
       "    <tr>\n",
       "      <th>0</th>\n",
       "      <td>7590-VHVEG</td>\n",
       "      <td>Female</td>\n",
       "      <td>0</td>\n",
       "      <td>Yes</td>\n",
       "      <td>No</td>\n",
       "      <td>1</td>\n",
       "      <td>No</td>\n",
       "      <td>No phone service</td>\n",
       "      <td>DSL</td>\n",
       "      <td>No</td>\n",
       "      <td>...</td>\n",
       "      <td>No</td>\n",
       "      <td>No</td>\n",
       "      <td>No</td>\n",
       "      <td>Month-to-month</td>\n",
       "      <td>Yes</td>\n",
       "      <td>Electronic check</td>\n",
       "      <td>29.85</td>\n",
       "      <td>29.85</td>\n",
       "      <td>0</td>\n",
       "      <td>tenure_0-1_yr</td>\n",
       "    </tr>\n",
       "    <tr>\n",
       "      <th>1</th>\n",
       "      <td>5575-GNVDE</td>\n",
       "      <td>Male</td>\n",
       "      <td>0</td>\n",
       "      <td>No</td>\n",
       "      <td>No</td>\n",
       "      <td>34</td>\n",
       "      <td>Yes</td>\n",
       "      <td>No</td>\n",
       "      <td>DSL</td>\n",
       "      <td>Yes</td>\n",
       "      <td>...</td>\n",
       "      <td>No</td>\n",
       "      <td>No</td>\n",
       "      <td>No</td>\n",
       "      <td>One year</td>\n",
       "      <td>No</td>\n",
       "      <td>Mailed check</td>\n",
       "      <td>56.95</td>\n",
       "      <td>1889.50</td>\n",
       "      <td>0</td>\n",
       "      <td>tenure_2-3_yr</td>\n",
       "    </tr>\n",
       "    <tr>\n",
       "      <th>2</th>\n",
       "      <td>3668-QPYBK</td>\n",
       "      <td>Male</td>\n",
       "      <td>0</td>\n",
       "      <td>No</td>\n",
       "      <td>No</td>\n",
       "      <td>2</td>\n",
       "      <td>Yes</td>\n",
       "      <td>No</td>\n",
       "      <td>DSL</td>\n",
       "      <td>Yes</td>\n",
       "      <td>...</td>\n",
       "      <td>No</td>\n",
       "      <td>No</td>\n",
       "      <td>No</td>\n",
       "      <td>Month-to-month</td>\n",
       "      <td>Yes</td>\n",
       "      <td>Mailed check</td>\n",
       "      <td>53.85</td>\n",
       "      <td>108.15</td>\n",
       "      <td>1</td>\n",
       "      <td>tenure_0-1_yr</td>\n",
       "    </tr>\n",
       "    <tr>\n",
       "      <th>3</th>\n",
       "      <td>7795-CFOCW</td>\n",
       "      <td>Male</td>\n",
       "      <td>0</td>\n",
       "      <td>No</td>\n",
       "      <td>No</td>\n",
       "      <td>45</td>\n",
       "      <td>No</td>\n",
       "      <td>No phone service</td>\n",
       "      <td>DSL</td>\n",
       "      <td>Yes</td>\n",
       "      <td>...</td>\n",
       "      <td>Yes</td>\n",
       "      <td>No</td>\n",
       "      <td>No</td>\n",
       "      <td>One year</td>\n",
       "      <td>No</td>\n",
       "      <td>Bank transfer (automatic)</td>\n",
       "      <td>42.30</td>\n",
       "      <td>1840.75</td>\n",
       "      <td>0</td>\n",
       "      <td>tenure_3-4_yr</td>\n",
       "    </tr>\n",
       "    <tr>\n",
       "      <th>4</th>\n",
       "      <td>9237-HQITU</td>\n",
       "      <td>Female</td>\n",
       "      <td>0</td>\n",
       "      <td>No</td>\n",
       "      <td>No</td>\n",
       "      <td>2</td>\n",
       "      <td>Yes</td>\n",
       "      <td>No</td>\n",
       "      <td>Fiber optic</td>\n",
       "      <td>No</td>\n",
       "      <td>...</td>\n",
       "      <td>No</td>\n",
       "      <td>No</td>\n",
       "      <td>No</td>\n",
       "      <td>Month-to-month</td>\n",
       "      <td>Yes</td>\n",
       "      <td>Electronic check</td>\n",
       "      <td>70.70</td>\n",
       "      <td>151.65</td>\n",
       "      <td>1</td>\n",
       "      <td>tenure_0-1_yr</td>\n",
       "    </tr>\n",
       "  </tbody>\n",
       "</table>\n",
       "<p>5 rows × 22 columns</p>\n",
       "</div>"
      ],
      "text/plain": [
       "   customerID  gender  SeniorCitizen Partner Dependents  tenure PhoneService  \\\n",
       "0  7590-VHVEG  Female              0     Yes         No       1           No   \n",
       "1  5575-GNVDE    Male              0      No         No      34          Yes   \n",
       "2  3668-QPYBK    Male              0      No         No       2          Yes   \n",
       "3  7795-CFOCW    Male              0      No         No      45           No   \n",
       "4  9237-HQITU  Female              0      No         No       2          Yes   \n",
       "\n",
       "      MultipleLines InternetService OnlineSecurity  ... TechSupport  \\\n",
       "0  No phone service             DSL             No  ...          No   \n",
       "1                No             DSL            Yes  ...          No   \n",
       "2                No             DSL            Yes  ...          No   \n",
       "3  No phone service             DSL            Yes  ...         Yes   \n",
       "4                No     Fiber optic             No  ...          No   \n",
       "\n",
       "  StreamingTV StreamingMovies        Contract PaperlessBilling  \\\n",
       "0          No              No  Month-to-month              Yes   \n",
       "1          No              No        One year               No   \n",
       "2          No              No  Month-to-month              Yes   \n",
       "3          No              No        One year               No   \n",
       "4          No              No  Month-to-month              Yes   \n",
       "\n",
       "               PaymentMethod MonthlyCharges TotalCharges  Churn     tenure_grp  \n",
       "0           Electronic check          29.85        29.85      0  tenure_0-1_yr  \n",
       "1               Mailed check          56.95      1889.50      0  tenure_2-3_yr  \n",
       "2               Mailed check          53.85       108.15      1  tenure_0-1_yr  \n",
       "3  Bank transfer (automatic)          42.30      1840.75      0  tenure_3-4_yr  \n",
       "4           Electronic check          70.70       151.65      1  tenure_0-1_yr  \n",
       "\n",
       "[5 rows x 22 columns]"
      ]
     },
     "execution_count": 12,
     "metadata": {},
     "output_type": "execute_result"
    }
   ],
   "source": [
    "data1.head()"
   ]
  },
  {
   "cell_type": "code",
   "execution_count": 13,
   "metadata": {},
   "outputs": [
    {
     "data": {
      "text/plain": [
       "0    5163\n",
       "1    1869\n",
       "Name: Churn, dtype: int64"
      ]
     },
     "execution_count": 13,
     "metadata": {},
     "output_type": "execute_result"
    }
   ],
   "source": [
    "#data distribution 73% class 0-27% class1\n",
    "data1.Churn.value_counts()"
   ]
  },
  {
   "cell_type": "markdown",
   "metadata": {},
   "source": [
    "### Data Visualization"
   ]
  },
  {
   "cell_type": "markdown",
   "metadata": {},
   "source": [
    "Churn Distribution"
   ]
  },
  {
   "cell_type": "code",
   "execution_count": 14,
   "metadata": {},
   "outputs": [
    {
     "data": {
      "image/png": "[encoded data removed]",
      "text/plain": [
       "<Figure size 432x288 with 1 Axes>"
      ]
     },
     "metadata": {
      "needs_background": "light"
     },
     "output_type": "display_data"
    }
   ],
   "source": [
    "ax=sns.countplot(data1[\"Churn\"],palette=\"rainbow\")"
   ]
  },
  {
   "cell_type": "markdown",
   "metadata": {},
   "source": [
    "The data is highly imbalanced showing the amount of people churned is more less than the amount of people not churned.So to avoid our model from predicting the most occuring class we will need to apply class weights or smote before training."
   ]
  },
  {
   "cell_type": "markdown",
   "metadata": {},
   "source": [
    "1) Gender"
   ]
  },
  {
   "cell_type": "code",
   "execution_count": 15,
   "metadata": {},
   "outputs": [
    {
     "data": {
      "image/png": "[encoded data removed]",
      "text/plain": [
       "<Figure size 1080x432 with 2 Axes>"
      ]
     },
     "metadata": {
      "needs_background": "light"
     },
     "output_type": "display_data"
    }
   ],
   "source": [
    "\n",
    "fig,axes=plt.subplots(1,2,figsize=(15,6))\n",
    "sns.countplot(data1.gender,ax=axes[0],palette=\"rainbow\")\n",
    "axes[0].title.set_text(\"Gender\")\n",
    "sns.countplot(data1.gender,hue=data1.Churn,ax=axes[1],palette=\"rainbow\")\n",
    "axes[1].title.set_text(\"Gender with Churn\")"
   ]
  },
  {
   "cell_type": "markdown",
   "metadata": {},
   "source": [
    "The graph shows that the data consist of equal distribution of male and female and the amount of churned or not is almost same for male and female.Therefore gender won't help much in predicting the values. "
   ]
  },
  {
   "cell_type": "markdown",
   "metadata": {},
   "source": [
    "2) Senior Citizen"
   ]
  },
  {
   "cell_type": "code",
   "execution_count": 16,
   "metadata": {},
   "outputs": [
    {
     "data": {
      "image/png": "[encoded data removed]",
      "text/plain": [
       "<Figure size 1080x432 with 2 Axes>"
      ]
     },
     "metadata": {
      "needs_background": "light"
     },
     "output_type": "display_data"
    }
   ],
   "source": [
    "fig,axes=plt.subplots(1,2,figsize=(15,6))\n",
    "sns.countplot(data1.SeniorCitizen,ax=axes[0],palette=\"rainbow\")\n",
    "axes[0].title.set_text(\"Senior Citizen\")\n",
    "sns.countplot(data1.SeniorCitizen,hue=data1.Churn,ax=axes[1],palette=\"rainbow\")\n",
    "axes[1].title.set_text(\"Senior Citizen with Churn\")"
   ]
  },
  {
   "cell_type": "markdown",
   "metadata": {},
   "source": [
    "The major customers of the company  are the young people(~6000) but we can also see that the churning rate of senior citizen is more than the younger people.So the primary focus should be on the senior citizen and reducing the senior citizen churning rate."
   ]
  },
  {
   "cell_type": "markdown",
   "metadata": {},
   "source": [
    "3) Partner"
   ]
  },
  {
   "cell_type": "code",
   "execution_count": 17,
   "metadata": {},
   "outputs": [
    {
     "data": {
      "image/png": "[encoded data removed]",
      "text/plain": [
       "<Figure size 1080x432 with 2 Axes>"
      ]
     },
     "metadata": {
      "needs_background": "light"
     },
     "output_type": "display_data"
    }
   ],
   "source": [
    "fig,axes=plt.subplots(1,2,figsize=(15,6))\n",
    "sns.countplot(data1.Partner,ax=axes[0],palette=\"rainbow\")\n",
    "axes[0].title.set_text(\"Partner\")\n",
    "sns.countplot(data1.Partner,hue=data1.Churn,ax=axes[1],palette=\"rainbow\")\n",
    "axes[1].title.set_text(\"Partner with Churn\")"
   ]
  },
  {
   "cell_type": "markdown",
   "metadata": {},
   "source": [
    "Almost 50% of the customers have partners while other 50 don't but from the other graph we can see that the churning rate of customers with no partners is high."
   ]
  },
  {
   "cell_type": "code",
   "execution_count": 18,
   "metadata": {},
   "outputs": [
    {
     "data": {
      "image/png": "[encoded data removed]",
      "text/plain": [
       "<Figure size 1080x432 with 2 Axes>"
      ]
     },
     "metadata": {
      "needs_background": "light"
     },
     "output_type": "display_data"
    }
   ],
   "source": [
    "fig,axes=plt.subplots(1,2,figsize=(15,6))\n",
    "sns.countplot(data1.Dependents,ax=axes[0],palette=\"rainbow\")\n",
    "axes[0].title.set_text(\"Dependents\")\n",
    "sns.countplot(data1.Dependents,hue=data1.Churn,ax=axes[1],palette=\"rainbow\")\n",
    "axes[1].title.set_text(\"Dependents with Churn\")"
   ]
  },
  {
   "cell_type": "code",
   "execution_count": 19,
   "metadata": {},
   "outputs": [
    {
     "data": {
      "text/plain": [
       "<matplotlib.axes._subplots.AxesSubplot at 0x1abfbe14b80>"
      ]
     },
     "execution_count": 19,
     "metadata": {},
     "output_type": "execute_result"
    },
    {
     "data": {
      "image/png": "[encoded data removed]",
      "text/plain": [
       "<Figure size 432x288 with 1 Axes>"
      ]
     },
     "metadata": {
      "needs_background": "light"
     },
     "output_type": "display_data"
    }
   ],
   "source": [
    "sns.distplot(data1.tenure)"
   ]
  },
  {
   "cell_type": "code",
   "execution_count": 20,
   "metadata": {},
   "outputs": [
    {
     "data": {
      "text/plain": [
       "<matplotlib.axes._subplots.AxesSubplot at 0x1abfc047ee0>"
      ]
     },
     "execution_count": 20,
     "metadata": {},
     "output_type": "execute_result"
    },
    {
     "data": {
      "image/png": "[encoded data removed]",
      "text/plain": [
       "<Figure size 432x288 with 1 Axes>"
      ]
     },
     "metadata": {
      "needs_background": "light"
     },
     "output_type": "display_data"
    }
   ],
   "source": [
    "sns.boxplot(x=\"Churn\",y=\"tenure\",data=data1)"
   ]
  },
  {
   "cell_type": "markdown",
   "metadata": {},
   "source": [
    "The people who have churned have a median tenure of around 10 months."
   ]
  },
  {
   "cell_type": "code",
   "execution_count": 21,
   "metadata": {},
   "outputs": [
    {
     "data": {
      "image/png": "[encoded data removed]",
      "text/plain": [
       "<Figure size 432x288 with 1 Axes>"
      ]
     },
     "metadata": {
      "needs_background": "light"
     },
     "output_type": "display_data"
    }
   ],
   "source": [
    "\n",
    "sns.countplot(data1.tenure_grp)\n",
    "plt.tight_layout()"
   ]
  },
  {
   "cell_type": "code",
   "execution_count": 22,
   "metadata": {},
   "outputs": [
    {
     "data": {
      "image/png": "[encoded data removed]",
      "text/plain": [
       "<Figure size 1080x432 with 1 Axes>"
      ]
     },
     "metadata": {
      "needs_background": "light"
     },
     "output_type": "display_data"
    }
   ],
   "source": [
    "plt.figure(figsize=(15,6))\n",
    "sns.countplot(data1[\"tenure_grp\"],hue=data1[\"Churn\"])\n",
    "plt.tight_layout()"
   ]
  },
  {
   "cell_type": "markdown",
   "metadata": {},
   "source": [
    "The maximum number of people is for a tenure of 0-1 year followed by 5-6 years and the hightest churning rate is for 0-1 year"
   ]
  },
  {
   "cell_type": "code",
   "execution_count": 23,
   "metadata": {},
   "outputs": [
    {
     "data": {
      "text/plain": [
       "<matplotlib.axes._subplots.AxesSubplot at 0x1abfbd73a00>"
      ]
     },
     "execution_count": 23,
     "metadata": {},
     "output_type": "execute_result"
    },
    {
     "data": {
      "image/png": "[encoded data removed]",
      "text/plain": [
       "<Figure size 720x720 with 9 Axes>"
      ]
     },
     "metadata": {
      "needs_background": "light"
     },
     "output_type": "display_data"
    }
   ],
   "source": [
    "#Services\n",
    "f,axes=plt.subplots(3,3,figsize=(10,10))\n",
    "sns.countplot(data.PhoneService,hue=data[\"Churn\"],ax=axes[0][0])\n",
    "sns.countplot(data.InternetService,hue=data[\"Churn\"],ax=axes[0][1])\n",
    "sns.countplot(data.MultipleLines,hue=data[\"Churn\"],ax=axes[0][2])\n",
    "sns.countplot(data.OnlineSecurity,hue=data[\"Churn\"],ax=axes[1][0])\n",
    "sns.countplot(data.DeviceProtection,hue=data[\"Churn\"],ax=axes[1][1])\n",
    "sns.countplot(data.TechSupport,hue=data[\"Churn\"],ax=axes[1][2])\n",
    "sns.countplot(data.StreamingTV,hue=data[\"Churn\"],ax=axes[2][0])\n",
    "sns.countplot(data.StreamingMovies,hue=data[\"Churn\"],ax=axes[2][1])\n",
    "sns.countplot(data.OnlineBackup,hue=data[\"Churn\"],ax=axes[2][2])"
   ]
  },
  {
   "cell_type": "markdown",
   "metadata": {},
   "source": [
    "Customers who have fiber optic(internet service)have a high churning rate compared to other internet services.\n",
    "Customers who dont have Online Security,Device Protection,Tech Support,Online Backup have a high churning rate.\n",
    "People who have or dont have StreamingTv or StreamingMovies have the same churning rate so these two features won't be the key factors in determining the predictions.\n"
   ]
  },
  {
   "cell_type": "code",
   "execution_count": 24,
   "metadata": {},
   "outputs": [
    {
     "data": {
      "image/png": "[encoded data removed]",
      "text/plain": [
       "<Figure size 432x288 with 1 Axes>"
      ]
     },
     "metadata": {
      "needs_background": "light"
     },
     "output_type": "display_data"
    },
    {
     "data": {
      "image/png": "[encoded data removed]",
      "text/plain": [
       "<Figure size 1080x432 with 3 Axes>"
      ]
     },
     "metadata": {
      "needs_background": "light"
     },
     "output_type": "display_data"
    }
   ],
   "source": [
    "#CONTRACTS\n",
    "sns.countplot(data1.Contract,hue=data1[\"Churn\"])\n",
    "f,axes=plt.subplots(1,3,figsize=(15,6))\n",
    "sns.distplot(data1[data1[\"Contract\"]==\"Month-to-month\"][\"tenure\"],ax=axes[0],kde=False)\n",
    "axes[0].title.set_text(\"Month-to-month\")\n",
    "sns.distplot(data1[data1[\"Contract\"]==\"One year\"][\"tenure\"],ax=axes[1],kde=False)\n",
    "axes[1].title.set_text(\"One year\")\n",
    "sns.distplot(data1[data1[\"Contract\"]==\"Two year\"][\"tenure\"],ax=axes[2],kde=False)\n",
    "axes[2].title.set_text(\"Two year\")"
   ]
  },
  {
   "cell_type": "markdown",
   "metadata": {},
   "source": [
    "We can see that the monthly contracts last for a very short period of time 1-2 months while the 2 year contract last for a longer period of time (70 months) showing that people having longer contracts last for a long period of time."
   ]
  },
  {
   "cell_type": "code",
   "execution_count": 25,
   "metadata": {},
   "outputs": [
    {
     "data": {
      "text/plain": [
       "<matplotlib.axes._subplots.AxesSubplot at 0x1abfc94ca30>"
      ]
     },
     "execution_count": 25,
     "metadata": {},
     "output_type": "execute_result"
    },
    {
     "data": {
      "image/png": "[encoded data removed]",
      "text/plain": [
       "<Figure size 432x288 with 1 Axes>"
      ]
     },
     "metadata": {
      "needs_background": "light"
     },
     "output_type": "display_data"
    }
   ],
   "source": [
    "#BILLING\n",
    "sns.countplot(data1.PaperlessBilling,hue=data1[\"Churn\"])"
   ]
  },
  {
   "cell_type": "markdown",
   "metadata": {},
   "source": [
    "The churning rate of people with paperless billing is high."
   ]
  },
  {
   "cell_type": "code",
   "execution_count": 26,
   "metadata": {},
   "outputs": [
    {
     "data": {
      "image/png": "[encoded data removed]",
      "text/plain": [
       "<Figure size 1080x432 with 1 Axes>"
      ]
     },
     "metadata": {
      "needs_background": "light"
     },
     "output_type": "display_data"
    }
   ],
   "source": [
    "#payment method\n",
    "plt.figure(figsize=(15,6))\n",
    "sns.countplot(data1.PaymentMethod,hue=data1[\"Churn\"])\n",
    "plt.tight_layout()"
   ]
  },
  {
   "cell_type": "markdown",
   "metadata": {},
   "source": [
    "Electronic check has a very high churning rate.So the company should improve the system for electronic check or ask users about the problem they face while paying through electronic check."
   ]
  },
  {
   "cell_type": "code",
   "execution_count": 27,
   "metadata": {},
   "outputs": [
    {
     "data": {
      "text/plain": [
       "<matplotlib.axes._subplots.AxesSubplot at 0x1abfcd45730>"
      ]
     },
     "execution_count": 27,
     "metadata": {},
     "output_type": "execute_result"
    },
    {
     "data": {
      "image/png": "[encoded data removed]",
      "text/plain": [
       "<Figure size 1080x432 with 2 Axes>"
      ]
     },
     "metadata": {
      "needs_background": "light"
     },
     "output_type": "display_data"
    }
   ],
   "source": [
    "#Monthlycharges\n",
    "f,axes=plt.subplots(1,2,figsize=(15,6))\n",
    "sns.boxplot(y=\"MonthlyCharges\",x=\"Churn\",data=data1,ax=axes[0])\n",
    "sns.kdeplot(data1[data1[\"Churn\"]==0][\"MonthlyCharges\"],ax=axes[1],shade=True)\n",
    "sns.kdeplot(data1[data1[\"Churn\"]==1][\"MonthlyCharges\"],ax=axes[1],shade=True)"
   ]
  },
  {
   "cell_type": "markdown",
   "metadata": {},
   "source": [
    "Customers having a higher monthly charges have a churning rate."
   ]
  },
  {
   "cell_type": "code",
   "execution_count": 28,
   "metadata": {},
   "outputs": [
    {
     "data": {
      "image/png": "[encoded data removed]",
      "text/plain": [
       "<Figure size 432x288 with 1 Axes>"
      ]
     },
     "metadata": {
      "needs_background": "light"
     },
     "output_type": "display_data"
    }
   ],
   "source": [
    "sns.barplot(x=\"tenure_grp\",y=\"MonthlyCharges\",data=data1,hue=\"Churn\",order=[\"tenure_0-1_yr\",\"tenure_1-2_yr\",\"tenure_2-3_yr\",\"tenure_3-4_yr\",\"tenure_4-5_yr\",\"tenure_5-6_yr\"])\n",
    "plt.tight_layout()"
   ]
  },
  {
   "cell_type": "markdown",
   "metadata": {},
   "source": [
    "As the tenure increase increase in monthly charges increase the churning rate."
   ]
  },
  {
   "cell_type": "code",
   "execution_count": 29,
   "metadata": {},
   "outputs": [
    {
     "data": {
      "text/plain": [
       "<matplotlib.axes._subplots.AxesSubplot at 0x1abfc457dc0>"
      ]
     },
     "execution_count": 29,
     "metadata": {},
     "output_type": "execute_result"
    },
    {
     "data": {
      "image/png": "[encoded data removed]",
      "text/plain": [
       "<Figure size 1080x432 with 2 Axes>"
      ]
     },
     "metadata": {
      "needs_background": "light"
     },
     "output_type": "display_data"
    }
   ],
   "source": [
    "#total charges\n",
    "f,axes=plt.subplots(1,2,figsize=(15,6))\n",
    "sns.boxplot(y=\"TotalCharges\",x=\"Churn\",data=data1,ax=axes[0])\n",
    "sns.kdeplot(data1[data1[\"Churn\"]==0][\"TotalCharges\"],ax=axes[1],shade=True)\n",
    "sns.kdeplot(data1[data1[\"Churn\"]==1][\"TotalCharges\"],ax=axes[1],shade=True)"
   ]
  },
  {
   "cell_type": "markdown",
   "metadata": {},
   "source": [
    "Customers having a low total charge have high churning rate showing that the customer stays for a shorter period of time."
   ]
  },
  {
   "cell_type": "code",
   "execution_count": 30,
   "metadata": {},
   "outputs": [
    {
     "data": {
      "image/png": "[encoded data removed]",
      "text/plain": [
       "<Figure size 432x288 with 1 Axes>"
      ]
     },
     "metadata": {
      "needs_background": "light"
     },
     "output_type": "display_data"
    }
   ],
   "source": [
    "sns.barplot(x=\"tenure_grp\",y=\"TotalCharges\",data=data1,hue=\"Churn\",order=[\"tenure_0-1_yr\",\"tenure_1-2_yr\",\"tenure_2-3_yr\",\"tenure_3-4_yr\",\"tenure_4-5_yr\",\"tenure_5-6_yr\"])\n",
    "plt.tight_layout()"
   ]
  },
  {
   "cell_type": "markdown",
   "metadata": {},
   "source": [
    "As the tenure increase increase in total charges increase the churning rate.\n"
   ]
  },
  {
   "cell_type": "code",
   "execution_count": 31,
   "metadata": {},
   "outputs": [
    {
     "data": {
      "text/plain": [
       "<matplotlib.axes._subplots.AxesSubplot at 0x1abfbed04f0>"
      ]
     },
     "execution_count": 31,
     "metadata": {},
     "output_type": "execute_result"
    },
    {
     "data": {
      "image/png": "[encoded data removed]",
      "text/plain": [
       "<Figure size 432x288 with 1 Axes>"
      ]
     },
     "metadata": {
      "needs_background": "light"
     },
     "output_type": "display_data"
    }
   ],
   "source": [
    "sns.scatterplot(x=\"MonthlyCharges\",y=\"TotalCharges\",data=data1)"
   ]
  },
  {
   "cell_type": "markdown",
   "metadata": {},
   "source": [
    "Increase in monthly charge increases the total charges."
   ]
  },
  {
   "cell_type": "code",
   "execution_count": 32,
   "metadata": {},
   "outputs": [
    {
     "data": {
      "text/plain": [
       "<matplotlib.axes._subplots.AxesSubplot at 0x1abfc38c130>"
      ]
     },
     "execution_count": 32,
     "metadata": {},
     "output_type": "execute_result"
    },
    {
     "data": {
      "image/png": "[encoded data removed]",
      "text/plain": [
       "<Figure size 1080x432 with 3 Axes>"
      ]
     },
     "metadata": {
      "needs_background": "light"
     },
     "output_type": "display_data"
    }
   ],
   "source": [
    "#outliers\n",
    "f,axes=plt.subplots(1,3,figsize=(15,6))\n",
    "sns.boxplot(\"MonthlyCharges\",data=data1,ax=axes[0])\n",
    "sns.boxplot(\"TotalCharges\",data=data1,ax=axes[1])\n",
    "sns.boxplot(\"tenure\",data=data1,ax=axes[2])"
   ]
  },
  {
   "cell_type": "markdown",
   "metadata": {},
   "source": [
    "We can see that there are no points beyond the whisker which shows there are no outliers."
   ]
  },
  {
   "cell_type": "markdown",
   "metadata": {
    "collapsed": true
   },
   "source": [
    "### Conclusion of Data Visualization\n",
    "\n",
    "1) From the chart we got to know that gender doesn't play a important in predicting the churning rate.\n",
    "   \n",
    "2) The major customers are the young people but the churning rate is high for senior citizen so are primary focus should be on them.\n",
    "    \n",
    "3) No partners have a high churning rate.\n",
    "\n",
    "4) If the tenure is low the churning rate is high\n",
    "\n",
    "5) The majority customers are in the tenure group of 0-1 years showing an early leave or in the 5-6 years showing loyalty to the company\n",
    "\n",
    "6) Customers using fibre optics(internet service) tend to churn more and customers not having online protection ,backup,device protection and Techsupport tend to churn more.Company should improve the fibre optics line(high speed or better connectivity) and convince people to buy the services like online protection ,backup,device protection and Techsupport(discounts on these services).\n",
    "\n",
    "7) Customers having a longer contract (2 years) stay more with the company,therefore the company should promote people to opt for the longer contract.\n",
    "\n",
    "8)The compamy should improve the paperlessbilling system or the company should find better ways of paying online.The comapny should get feedback from the user about the problems they are facing.\n",
    "\n",
    "9)The compamy should improve the electronic check system and  take feedback from the user.\n",
    "\n",
    "10) The comapny should include some offers in monthly charges(or total charges) or cashbacks.The company should come up with better prices which meets the overall need of the user and at the same time increase its profit.\n",
    "\n"
   ]
  },
  {
   "cell_type": "markdown",
   "metadata": {},
   "source": [
    "### Implement Machine Learning Models"
   ]
  },
  {
   "cell_type": "code",
   "execution_count": 33,
   "metadata": {},
   "outputs": [
    {
     "data": {
      "text/html": [
       "<div>\n",
       "<style scoped>\n",
       "    .dataframe tbody tr th:only-of-type {\n",
       "        vertical-align: middle;\n",
       "    }\n",
       "\n",
       "    .dataframe tbody tr th {\n",
       "        vertical-align: top;\n",
       "    }\n",
       "\n",
       "    .dataframe thead th {\n",
       "        text-align: right;\n",
       "    }\n",
       "</style>\n",
       "<table border=\"1\" class=\"dataframe\">\n",
       "  <thead>\n",
       "    <tr style=\"text-align: right;\">\n",
       "      <th></th>\n",
       "      <th>customerID</th>\n",
       "      <th>gender</th>\n",
       "      <th>SeniorCitizen</th>\n",
       "      <th>Partner</th>\n",
       "      <th>Dependents</th>\n",
       "      <th>tenure</th>\n",
       "      <th>PhoneService</th>\n",
       "      <th>MultipleLines</th>\n",
       "      <th>InternetService</th>\n",
       "      <th>OnlineSecurity</th>\n",
       "      <th>...</th>\n",
       "      <th>TechSupport</th>\n",
       "      <th>StreamingTV</th>\n",
       "      <th>StreamingMovies</th>\n",
       "      <th>Contract</th>\n",
       "      <th>PaperlessBilling</th>\n",
       "      <th>PaymentMethod</th>\n",
       "      <th>MonthlyCharges</th>\n",
       "      <th>TotalCharges</th>\n",
       "      <th>Churn</th>\n",
       "      <th>tenure_grp</th>\n",
       "    </tr>\n",
       "  </thead>\n",
       "  <tbody>\n",
       "    <tr>\n",
       "      <th>0</th>\n",
       "      <td>7590-VHVEG</td>\n",
       "      <td>Female</td>\n",
       "      <td>0</td>\n",
       "      <td>Yes</td>\n",
       "      <td>No</td>\n",
       "      <td>1</td>\n",
       "      <td>No</td>\n",
       "      <td>No phone service</td>\n",
       "      <td>DSL</td>\n",
       "      <td>No</td>\n",
       "      <td>...</td>\n",
       "      <td>No</td>\n",
       "      <td>No</td>\n",
       "      <td>No</td>\n",
       "      <td>Month-to-month</td>\n",
       "      <td>Yes</td>\n",
       "      <td>Electronic check</td>\n",
       "      <td>29.85</td>\n",
       "      <td>29.85</td>\n",
       "      <td>0</td>\n",
       "      <td>tenure_0-1_yr</td>\n",
       "    </tr>\n",
       "    <tr>\n",
       "      <th>1</th>\n",
       "      <td>5575-GNVDE</td>\n",
       "      <td>Male</td>\n",
       "      <td>0</td>\n",
       "      <td>No</td>\n",
       "      <td>No</td>\n",
       "      <td>34</td>\n",
       "      <td>Yes</td>\n",
       "      <td>No</td>\n",
       "      <td>DSL</td>\n",
       "      <td>Yes</td>\n",
       "      <td>...</td>\n",
       "      <td>No</td>\n",
       "      <td>No</td>\n",
       "      <td>No</td>\n",
       "      <td>One year</td>\n",
       "      <td>No</td>\n",
       "      <td>Mailed check</td>\n",
       "      <td>56.95</td>\n",
       "      <td>1889.50</td>\n",
       "      <td>0</td>\n",
       "      <td>tenure_2-3_yr</td>\n",
       "    </tr>\n",
       "    <tr>\n",
       "      <th>2</th>\n",
       "      <td>3668-QPYBK</td>\n",
       "      <td>Male</td>\n",
       "      <td>0</td>\n",
       "      <td>No</td>\n",
       "      <td>No</td>\n",
       "      <td>2</td>\n",
       "      <td>Yes</td>\n",
       "      <td>No</td>\n",
       "      <td>DSL</td>\n",
       "      <td>Yes</td>\n",
       "      <td>...</td>\n",
       "      <td>No</td>\n",
       "      <td>No</td>\n",
       "      <td>No</td>\n",
       "      <td>Month-to-month</td>\n",
       "      <td>Yes</td>\n",
       "      <td>Mailed check</td>\n",
       "      <td>53.85</td>\n",
       "      <td>108.15</td>\n",
       "      <td>1</td>\n",
       "      <td>tenure_0-1_yr</td>\n",
       "    </tr>\n",
       "    <tr>\n",
       "      <th>3</th>\n",
       "      <td>7795-CFOCW</td>\n",
       "      <td>Male</td>\n",
       "      <td>0</td>\n",
       "      <td>No</td>\n",
       "      <td>No</td>\n",
       "      <td>45</td>\n",
       "      <td>No</td>\n",
       "      <td>No phone service</td>\n",
       "      <td>DSL</td>\n",
       "      <td>Yes</td>\n",
       "      <td>...</td>\n",
       "      <td>Yes</td>\n",
       "      <td>No</td>\n",
       "      <td>No</td>\n",
       "      <td>One year</td>\n",
       "      <td>No</td>\n",
       "      <td>Bank transfer (automatic)</td>\n",
       "      <td>42.30</td>\n",
       "      <td>1840.75</td>\n",
       "      <td>0</td>\n",
       "      <td>tenure_3-4_yr</td>\n",
       "    </tr>\n",
       "    <tr>\n",
       "      <th>4</th>\n",
       "      <td>9237-HQITU</td>\n",
       "      <td>Female</td>\n",
       "      <td>0</td>\n",
       "      <td>No</td>\n",
       "      <td>No</td>\n",
       "      <td>2</td>\n",
       "      <td>Yes</td>\n",
       "      <td>No</td>\n",
       "      <td>Fiber optic</td>\n",
       "      <td>No</td>\n",
       "      <td>...</td>\n",
       "      <td>No</td>\n",
       "      <td>No</td>\n",
       "      <td>No</td>\n",
       "      <td>Month-to-month</td>\n",
       "      <td>Yes</td>\n",
       "      <td>Electronic check</td>\n",
       "      <td>70.70</td>\n",
       "      <td>151.65</td>\n",
       "      <td>1</td>\n",
       "      <td>tenure_0-1_yr</td>\n",
       "    </tr>\n",
       "  </tbody>\n",
       "</table>\n",
       "<p>5 rows × 22 columns</p>\n",
       "</div>"
      ],
      "text/plain": [
       "   customerID  gender  SeniorCitizen Partner Dependents  tenure PhoneService  \\\n",
       "0  7590-VHVEG  Female              0     Yes         No       1           No   \n",
       "1  5575-GNVDE    Male              0      No         No      34          Yes   \n",
       "2  3668-QPYBK    Male              0      No         No       2          Yes   \n",
       "3  7795-CFOCW    Male              0      No         No      45           No   \n",
       "4  9237-HQITU  Female              0      No         No       2          Yes   \n",
       "\n",
       "      MultipleLines InternetService OnlineSecurity  ... TechSupport  \\\n",
       "0  No phone service             DSL             No  ...          No   \n",
       "1                No             DSL            Yes  ...          No   \n",
       "2                No             DSL            Yes  ...          No   \n",
       "3  No phone service             DSL            Yes  ...         Yes   \n",
       "4                No     Fiber optic             No  ...          No   \n",
       "\n",
       "  StreamingTV StreamingMovies        Contract PaperlessBilling  \\\n",
       "0          No              No  Month-to-month              Yes   \n",
       "1          No              No        One year               No   \n",
       "2          No              No  Month-to-month              Yes   \n",
       "3          No              No        One year               No   \n",
       "4          No              No  Month-to-month              Yes   \n",
       "\n",
       "               PaymentMethod MonthlyCharges TotalCharges  Churn     tenure_grp  \n",
       "0           Electronic check          29.85        29.85      0  tenure_0-1_yr  \n",
       "1               Mailed check          56.95      1889.50      0  tenure_2-3_yr  \n",
       "2               Mailed check          53.85       108.15      1  tenure_0-1_yr  \n",
       "3  Bank transfer (automatic)          42.30      1840.75      0  tenure_3-4_yr  \n",
       "4           Electronic check          70.70       151.65      1  tenure_0-1_yr  \n",
       "\n",
       "[5 rows x 22 columns]"
      ]
     },
     "execution_count": 33,
     "metadata": {},
     "output_type": "execute_result"
    }
   ],
   "source": [
    "data1.head()"
   ]
  },
  {
   "cell_type": "markdown",
   "metadata": {},
   "source": [
    "Get dummies for multicategory columns(more than 3)"
   ]
  },
  {
   "cell_type": "code",
   "execution_count": 103,
   "metadata": {},
   "outputs": [],
   "source": [
    "#get_dummies on multicategory columns\n",
    "multi=[]\n",
    "for i in data1.columns:\n",
    "    if data1[i].nunique()>=3 and data1[i].nunique()<=6 :\n",
    "        multi.append(i)\n",
    "        \n",
    "        \n",
    "        "
   ]
  },
  {
   "cell_type": "code",
   "execution_count": 36,
   "metadata": {},
   "outputs": [],
   "source": [
    "data1=pd.get_dummies(data1,columns=multi)"
   ]
  },
  {
   "cell_type": "code",
   "execution_count": 37,
   "metadata": {},
   "outputs": [
    {
     "data": {
      "text/plain": [
       "Index(['customerID', 'gender', 'SeniorCitizen', 'Partner', 'Dependents',\n",
       "       'tenure', 'PhoneService', 'PaperlessBilling', 'MonthlyCharges',\n",
       "       'TotalCharges', 'Churn', 'MultipleLines_No',\n",
       "       'MultipleLines_No phone service', 'MultipleLines_Yes',\n",
       "       'InternetService_DSL', 'InternetService_Fiber optic',\n",
       "       'InternetService_No', 'OnlineSecurity_No',\n",
       "       'OnlineSecurity_No internet service', 'OnlineSecurity_Yes',\n",
       "       'OnlineBackup_No', 'OnlineBackup_No internet service',\n",
       "       'OnlineBackup_Yes', 'DeviceProtection_No',\n",
       "       'DeviceProtection_No internet service', 'DeviceProtection_Yes',\n",
       "       'TechSupport_No', 'TechSupport_No internet service', 'TechSupport_Yes',\n",
       "       'StreamingTV_No', 'StreamingTV_No internet service', 'StreamingTV_Yes',\n",
       "       'StreamingMovies_No', 'StreamingMovies_No internet service',\n",
       "       'StreamingMovies_Yes', 'Contract_Month-to-month', 'Contract_One year',\n",
       "       'Contract_Two year', 'PaymentMethod_Bank transfer (automatic)',\n",
       "       'PaymentMethod_Credit card (automatic)',\n",
       "       'PaymentMethod_Electronic check', 'PaymentMethod_Mailed check',\n",
       "       'tenure_grp_tenure_0-1_yr', 'tenure_grp_tenure_1-2_yr',\n",
       "       'tenure_grp_tenure_2-3_yr', 'tenure_grp_tenure_3-4_yr',\n",
       "       'tenure_grp_tenure_4-5_yr', 'tenure_grp_tenure_5-6_yr'],\n",
       "      dtype='object')"
      ]
     },
     "execution_count": 37,
     "metadata": {},
     "output_type": "execute_result"
    }
   ],
   "source": [
    "data1.columns"
   ]
  },
  {
   "cell_type": "code",
   "execution_count": 38,
   "metadata": {},
   "outputs": [],
   "source": [
    "#removing these columns because of multiple instances of the no internet service column\n",
    "data1.drop([\"MultipleLines_No phone service\",'OnlineSecurity_No internet service','OnlineBackup_No internet service','DeviceProtection_No internet service','TechSupport_No internet service','StreamingTV_No internet service','StreamingMovies_No internet service'],axis=1,inplace=True)"
   ]
  },
  {
   "cell_type": "markdown",
   "metadata": {},
   "source": [
    "Train test Split"
   ]
  },
  {
   "cell_type": "code",
   "execution_count": 39,
   "metadata": {},
   "outputs": [],
   "source": [
    "#creating a train-validation split\n",
    "from sklearn.model_selection import train_test_split\n",
    "train,val=train_test_split(data1,test_size=3043/len(data1),random_state=0)"
   ]
  },
  {
   "cell_type": "markdown",
   "metadata": {},
   "source": [
    "Label Encoding for Binary columns"
   ]
  },
  {
   "cell_type": "code",
   "execution_count": 104,
   "metadata": {},
   "outputs": [],
   "source": [
    "#label encoding for binary columns\n",
    "binary=[]\n",
    "for i in data1.columns:\n",
    "    if data1[i].nunique()==2:\n",
    "        binary.append(i)"
   ]
  },
  {
   "cell_type": "code",
   "execution_count": 40,
   "metadata": {},
   "outputs": [],
   "source": [
    "#converting binary categorical columns using label encoding\n",
    "from sklearn.preprocessing import LabelEncoder\n",
    "for i in binary:\n",
    "        lb=LabelEncoder()\n",
    "        train[i]=lb.fit_transform(train[i])\n",
    "        val[i]=lb.transform(val[i])\n"
   ]
  },
  {
   "cell_type": "markdown",
   "metadata": {},
   "source": [
    "Correlation of target Column with other variables"
   ]
  },
  {
   "cell_type": "code",
   "execution_count": 41,
   "metadata": {},
   "outputs": [
    {
     "data": {
      "text/plain": [
       "gender                                     0.002714\n",
       "SeniorCitizen                              0.150367\n",
       "Partner                                   -0.136895\n",
       "Dependents                                -0.166415\n",
       "tenure                                    -0.346387\n",
       "PhoneService                               0.004558\n",
       "PaperlessBilling                           0.207421\n",
       "MonthlyCharges                             0.180872\n",
       "TotalCharges                              -0.197786\n",
       "Churn                                      1.000000\n",
       "MultipleLines_No                          -0.031263\n",
       "MultipleLines_Yes                          0.034492\n",
       "InternetService_DSL                       -0.106938\n",
       "InternetService_Fiber optic                0.284593\n",
       "InternetService_No                        -0.219443\n",
       "OnlineSecurity_No                          0.321877\n",
       "OnlineSecurity_Yes                        -0.156202\n",
       "OnlineBackup_No                            0.259531\n",
       "OnlineBackup_Yes                          -0.081011\n",
       "DeviceProtection_No                        0.234664\n",
       "DeviceProtection_Yes                      -0.056033\n",
       "TechSupport_No                             0.318975\n",
       "TechSupport_Yes                           -0.153858\n",
       "StreamingTV_No                             0.119284\n",
       "StreamingTV_Yes                            0.064838\n",
       "StreamingMovies_No                         0.127837\n",
       "StreamingMovies_Yes                        0.056466\n",
       "Contract_Month-to-month                    0.397572\n",
       "Contract_One year                         -0.180667\n",
       "Contract_Two year                         -0.292077\n",
       "PaymentMethod_Bank transfer (automatic)   -0.114838\n",
       "PaymentMethod_Credit card (automatic)     -0.147242\n",
       "PaymentMethod_Electronic check             0.304783\n",
       "PaymentMethod_Mailed check                -0.087283\n",
       "tenure_grp_tenure_0-1_yr                   0.310337\n",
       "tenure_grp_tenure_1-2_yr                   0.027796\n",
       "tenure_grp_tenure_2-3_yr                  -0.042630\n",
       "tenure_grp_tenure_3-4_yr                  -0.068562\n",
       "tenure_grp_tenure_4-5_yr                  -0.098578\n",
       "tenure_grp_tenure_5-6_yr                  -0.219513\n",
       "dtype: float64"
      ]
     },
     "execution_count": 41,
     "metadata": {},
     "output_type": "execute_result"
    }
   ],
   "source": [
    "train.corrwith(train[\"Churn\"])"
   ]
  },
  {
   "cell_type": "code",
   "execution_count": 42,
   "metadata": {},
   "outputs": [],
   "source": [
    "#dropping gender because of low correlation value(0.002)\n",
    "train.drop(\"gender\",axis=1,inplace=True)\n",
    "val.drop(\"gender\",axis=1,inplace=True)"
   ]
  },
  {
   "cell_type": "markdown",
   "metadata": {},
   "source": [
    "Scaling the numerical columns"
   ]
  },
  {
   "cell_type": "code",
   "execution_count": 43,
   "metadata": {},
   "outputs": [],
   "source": [
    "#storing the numerical columns for scaling\n",
    "num=[\"MonthlyCharges\",\"TotalCharges\",\"tenure\"]\n",
    "\n",
    "    "
   ]
  },
  {
   "cell_type": "code",
   "execution_count": 44,
   "metadata": {},
   "outputs": [],
   "source": [
    "#scaling the numerical values \n",
    "from sklearn.preprocessing import StandardScaler\n",
    "ss=StandardScaler()\n"
   ]
  },
  {
   "cell_type": "code",
   "execution_count": 45,
   "metadata": {},
   "outputs": [],
   "source": [
    "scaled_col=ss.fit_transform(train[num])"
   ]
  },
  {
   "cell_type": "code",
   "execution_count": 46,
   "metadata": {},
   "outputs": [],
   "source": [
    "train_ss=pd.DataFrame(data=scaled_col,columns=[num])"
   ]
  },
  {
   "cell_type": "code",
   "execution_count": 47,
   "metadata": {},
   "outputs": [
    {
     "data": {
      "text/html": [
       "<div>\n",
       "<style scoped>\n",
       "    .dataframe tbody tr th:only-of-type {\n",
       "        vertical-align: middle;\n",
       "    }\n",
       "\n",
       "    .dataframe tbody tr th {\n",
       "        vertical-align: top;\n",
       "    }\n",
       "\n",
       "    .dataframe thead th {\n",
       "        text-align: right;\n",
       "    }\n",
       "</style>\n",
       "<table border=\"1\" class=\"dataframe\">\n",
       "  <thead>\n",
       "    <tr style=\"text-align: right;\">\n",
       "      <th></th>\n",
       "      <th>customerID</th>\n",
       "      <th>SeniorCitizen</th>\n",
       "      <th>Partner</th>\n",
       "      <th>Dependents</th>\n",
       "      <th>tenure</th>\n",
       "      <th>PhoneService</th>\n",
       "      <th>PaperlessBilling</th>\n",
       "      <th>MonthlyCharges</th>\n",
       "      <th>TotalCharges</th>\n",
       "      <th>Churn</th>\n",
       "      <th>...</th>\n",
       "      <th>PaymentMethod_Bank transfer (automatic)</th>\n",
       "      <th>PaymentMethod_Credit card (automatic)</th>\n",
       "      <th>PaymentMethod_Electronic check</th>\n",
       "      <th>PaymentMethod_Mailed check</th>\n",
       "      <th>tenure_grp_tenure_0-1_yr</th>\n",
       "      <th>tenure_grp_tenure_1-2_yr</th>\n",
       "      <th>tenure_grp_tenure_2-3_yr</th>\n",
       "      <th>tenure_grp_tenure_3-4_yr</th>\n",
       "      <th>tenure_grp_tenure_4-5_yr</th>\n",
       "      <th>tenure_grp_tenure_5-6_yr</th>\n",
       "    </tr>\n",
       "  </thead>\n",
       "  <tbody>\n",
       "    <tr>\n",
       "      <th>0</th>\n",
       "      <td>7493-GVFIO</td>\n",
       "      <td>0</td>\n",
       "      <td>0</td>\n",
       "      <td>0</td>\n",
       "      <td>57</td>\n",
       "      <td>1</td>\n",
       "      <td>0</td>\n",
       "      <td>20.55</td>\n",
       "      <td>1252.85</td>\n",
       "      <td>0</td>\n",
       "      <td>...</td>\n",
       "      <td>0</td>\n",
       "      <td>1</td>\n",
       "      <td>0</td>\n",
       "      <td>0</td>\n",
       "      <td>0</td>\n",
       "      <td>0</td>\n",
       "      <td>0</td>\n",
       "      <td>0</td>\n",
       "      <td>1</td>\n",
       "      <td>0</td>\n",
       "    </tr>\n",
       "    <tr>\n",
       "      <th>1</th>\n",
       "      <td>5173-WXOQV</td>\n",
       "      <td>0</td>\n",
       "      <td>1</td>\n",
       "      <td>0</td>\n",
       "      <td>2</td>\n",
       "      <td>1</td>\n",
       "      <td>1</td>\n",
       "      <td>64.20</td>\n",
       "      <td>143.65</td>\n",
       "      <td>0</td>\n",
       "      <td>...</td>\n",
       "      <td>0</td>\n",
       "      <td>0</td>\n",
       "      <td>0</td>\n",
       "      <td>1</td>\n",
       "      <td>1</td>\n",
       "      <td>0</td>\n",
       "      <td>0</td>\n",
       "      <td>0</td>\n",
       "      <td>0</td>\n",
       "      <td>0</td>\n",
       "    </tr>\n",
       "    <tr>\n",
       "      <th>2</th>\n",
       "      <td>1031-IIDEO</td>\n",
       "      <td>0</td>\n",
       "      <td>0</td>\n",
       "      <td>0</td>\n",
       "      <td>1</td>\n",
       "      <td>1</td>\n",
       "      <td>1</td>\n",
       "      <td>70.85</td>\n",
       "      <td>70.85</td>\n",
       "      <td>1</td>\n",
       "      <td>...</td>\n",
       "      <td>0</td>\n",
       "      <td>0</td>\n",
       "      <td>1</td>\n",
       "      <td>0</td>\n",
       "      <td>1</td>\n",
       "      <td>0</td>\n",
       "      <td>0</td>\n",
       "      <td>0</td>\n",
       "      <td>0</td>\n",
       "      <td>0</td>\n",
       "    </tr>\n",
       "    <tr>\n",
       "      <th>3</th>\n",
       "      <td>1307-ATKGB</td>\n",
       "      <td>0</td>\n",
       "      <td>0</td>\n",
       "      <td>0</td>\n",
       "      <td>24</td>\n",
       "      <td>1</td>\n",
       "      <td>1</td>\n",
       "      <td>89.55</td>\n",
       "      <td>2187.15</td>\n",
       "      <td>0</td>\n",
       "      <td>...</td>\n",
       "      <td>0</td>\n",
       "      <td>0</td>\n",
       "      <td>1</td>\n",
       "      <td>0</td>\n",
       "      <td>0</td>\n",
       "      <td>1</td>\n",
       "      <td>0</td>\n",
       "      <td>0</td>\n",
       "      <td>0</td>\n",
       "      <td>0</td>\n",
       "    </tr>\n",
       "    <tr>\n",
       "      <th>4</th>\n",
       "      <td>1945-XISKS</td>\n",
       "      <td>0</td>\n",
       "      <td>1</td>\n",
       "      <td>0</td>\n",
       "      <td>67</td>\n",
       "      <td>1</td>\n",
       "      <td>0</td>\n",
       "      <td>19.65</td>\n",
       "      <td>1335.20</td>\n",
       "      <td>0</td>\n",
       "      <td>...</td>\n",
       "      <td>0</td>\n",
       "      <td>0</td>\n",
       "      <td>0</td>\n",
       "      <td>1</td>\n",
       "      <td>0</td>\n",
       "      <td>0</td>\n",
       "      <td>0</td>\n",
       "      <td>0</td>\n",
       "      <td>0</td>\n",
       "      <td>1</td>\n",
       "    </tr>\n",
       "    <tr>\n",
       "      <th>...</th>\n",
       "      <td>...</td>\n",
       "      <td>...</td>\n",
       "      <td>...</td>\n",
       "      <td>...</td>\n",
       "      <td>...</td>\n",
       "      <td>...</td>\n",
       "      <td>...</td>\n",
       "      <td>...</td>\n",
       "      <td>...</td>\n",
       "      <td>...</td>\n",
       "      <td>...</td>\n",
       "      <td>...</td>\n",
       "      <td>...</td>\n",
       "      <td>...</td>\n",
       "      <td>...</td>\n",
       "      <td>...</td>\n",
       "      <td>...</td>\n",
       "      <td>...</td>\n",
       "      <td>...</td>\n",
       "      <td>...</td>\n",
       "      <td>...</td>\n",
       "    </tr>\n",
       "    <tr>\n",
       "      <th>3984</th>\n",
       "      <td>9975-SKRNR</td>\n",
       "      <td>0</td>\n",
       "      <td>0</td>\n",
       "      <td>0</td>\n",
       "      <td>1</td>\n",
       "      <td>1</td>\n",
       "      <td>0</td>\n",
       "      <td>18.90</td>\n",
       "      <td>18.90</td>\n",
       "      <td>0</td>\n",
       "      <td>...</td>\n",
       "      <td>0</td>\n",
       "      <td>0</td>\n",
       "      <td>0</td>\n",
       "      <td>1</td>\n",
       "      <td>1</td>\n",
       "      <td>0</td>\n",
       "      <td>0</td>\n",
       "      <td>0</td>\n",
       "      <td>0</td>\n",
       "      <td>0</td>\n",
       "    </tr>\n",
       "    <tr>\n",
       "      <th>3985</th>\n",
       "      <td>2662-NNTDK</td>\n",
       "      <td>0</td>\n",
       "      <td>0</td>\n",
       "      <td>0</td>\n",
       "      <td>65</td>\n",
       "      <td>1</td>\n",
       "      <td>0</td>\n",
       "      <td>24.80</td>\n",
       "      <td>1600.95</td>\n",
       "      <td>0</td>\n",
       "      <td>...</td>\n",
       "      <td>0</td>\n",
       "      <td>1</td>\n",
       "      <td>0</td>\n",
       "      <td>0</td>\n",
       "      <td>0</td>\n",
       "      <td>0</td>\n",
       "      <td>0</td>\n",
       "      <td>0</td>\n",
       "      <td>0</td>\n",
       "      <td>1</td>\n",
       "    </tr>\n",
       "    <tr>\n",
       "      <th>3986</th>\n",
       "      <td>1228-FZFRV</td>\n",
       "      <td>0</td>\n",
       "      <td>1</td>\n",
       "      <td>1</td>\n",
       "      <td>50</td>\n",
       "      <td>1</td>\n",
       "      <td>0</td>\n",
       "      <td>105.95</td>\n",
       "      <td>5341.80</td>\n",
       "      <td>1</td>\n",
       "      <td>...</td>\n",
       "      <td>0</td>\n",
       "      <td>1</td>\n",
       "      <td>0</td>\n",
       "      <td>0</td>\n",
       "      <td>0</td>\n",
       "      <td>0</td>\n",
       "      <td>0</td>\n",
       "      <td>0</td>\n",
       "      <td>1</td>\n",
       "      <td>0</td>\n",
       "    </tr>\n",
       "    <tr>\n",
       "      <th>3987</th>\n",
       "      <td>8198-RKSZG</td>\n",
       "      <td>0</td>\n",
       "      <td>1</td>\n",
       "      <td>1</td>\n",
       "      <td>14</td>\n",
       "      <td>1</td>\n",
       "      <td>0</td>\n",
       "      <td>80.45</td>\n",
       "      <td>1137.05</td>\n",
       "      <td>0</td>\n",
       "      <td>...</td>\n",
       "      <td>0</td>\n",
       "      <td>1</td>\n",
       "      <td>0</td>\n",
       "      <td>0</td>\n",
       "      <td>0</td>\n",
       "      <td>1</td>\n",
       "      <td>0</td>\n",
       "      <td>0</td>\n",
       "      <td>0</td>\n",
       "      <td>0</td>\n",
       "    </tr>\n",
       "    <tr>\n",
       "      <th>3988</th>\n",
       "      <td>5074-FBGHB</td>\n",
       "      <td>0</td>\n",
       "      <td>0</td>\n",
       "      <td>0</td>\n",
       "      <td>64</td>\n",
       "      <td>1</td>\n",
       "      <td>1</td>\n",
       "      <td>104.65</td>\n",
       "      <td>6889.80</td>\n",
       "      <td>0</td>\n",
       "      <td>...</td>\n",
       "      <td>0</td>\n",
       "      <td>1</td>\n",
       "      <td>0</td>\n",
       "      <td>0</td>\n",
       "      <td>0</td>\n",
       "      <td>0</td>\n",
       "      <td>0</td>\n",
       "      <td>0</td>\n",
       "      <td>0</td>\n",
       "      <td>1</td>\n",
       "    </tr>\n",
       "  </tbody>\n",
       "</table>\n",
       "<p>3989 rows × 40 columns</p>\n",
       "</div>"
      ],
      "text/plain": [
       "      customerID  SeniorCitizen  Partner  Dependents  tenure  PhoneService  \\\n",
       "0     7493-GVFIO              0        0           0      57             1   \n",
       "1     5173-WXOQV              0        1           0       2             1   \n",
       "2     1031-IIDEO              0        0           0       1             1   \n",
       "3     1307-ATKGB              0        0           0      24             1   \n",
       "4     1945-XISKS              0        1           0      67             1   \n",
       "...          ...            ...      ...         ...     ...           ...   \n",
       "3984  9975-SKRNR              0        0           0       1             1   \n",
       "3985  2662-NNTDK              0        0           0      65             1   \n",
       "3986  1228-FZFRV              0        1           1      50             1   \n",
       "3987  8198-RKSZG              0        1           1      14             1   \n",
       "3988  5074-FBGHB              0        0           0      64             1   \n",
       "\n",
       "      PaperlessBilling  MonthlyCharges  TotalCharges  Churn  ...  \\\n",
       "0                    0           20.55       1252.85      0  ...   \n",
       "1                    1           64.20        143.65      0  ...   \n",
       "2                    1           70.85         70.85      1  ...   \n",
       "3                    1           89.55       2187.15      0  ...   \n",
       "4                    0           19.65       1335.20      0  ...   \n",
       "...                ...             ...           ...    ...  ...   \n",
       "3984                 0           18.90         18.90      0  ...   \n",
       "3985                 0           24.80       1600.95      0  ...   \n",
       "3986                 0          105.95       5341.80      1  ...   \n",
       "3987                 0           80.45       1137.05      0  ...   \n",
       "3988                 1          104.65       6889.80      0  ...   \n",
       "\n",
       "      PaymentMethod_Bank transfer (automatic)  \\\n",
       "0                                           0   \n",
       "1                                           0   \n",
       "2                                           0   \n",
       "3                                           0   \n",
       "4                                           0   \n",
       "...                                       ...   \n",
       "3984                                        0   \n",
       "3985                                        0   \n",
       "3986                                        0   \n",
       "3987                                        0   \n",
       "3988                                        0   \n",
       "\n",
       "      PaymentMethod_Credit card (automatic)  PaymentMethod_Electronic check  \\\n",
       "0                                         1                               0   \n",
       "1                                         0                               0   \n",
       "2                                         0                               1   \n",
       "3                                         0                               1   \n",
       "4                                         0                               0   \n",
       "...                                     ...                             ...   \n",
       "3984                                      0                               0   \n",
       "3985                                      1                               0   \n",
       "3986                                      1                               0   \n",
       "3987                                      1                               0   \n",
       "3988                                      1                               0   \n",
       "\n",
       "      PaymentMethod_Mailed check  tenure_grp_tenure_0-1_yr  \\\n",
       "0                              0                         0   \n",
       "1                              1                         1   \n",
       "2                              0                         1   \n",
       "3                              0                         0   \n",
       "4                              1                         0   \n",
       "...                          ...                       ...   \n",
       "3984                           1                         1   \n",
       "3985                           0                         0   \n",
       "3986                           0                         0   \n",
       "3987                           0                         0   \n",
       "3988                           0                         0   \n",
       "\n",
       "      tenure_grp_tenure_1-2_yr  tenure_grp_tenure_2-3_yr  \\\n",
       "0                            0                         0   \n",
       "1                            0                         0   \n",
       "2                            0                         0   \n",
       "3                            1                         0   \n",
       "4                            0                         0   \n",
       "...                        ...                       ...   \n",
       "3984                         0                         0   \n",
       "3985                         0                         0   \n",
       "3986                         0                         0   \n",
       "3987                         1                         0   \n",
       "3988                         0                         0   \n",
       "\n",
       "      tenure_grp_tenure_3-4_yr  tenure_grp_tenure_4-5_yr  \\\n",
       "0                            0                         1   \n",
       "1                            0                         0   \n",
       "2                            0                         0   \n",
       "3                            0                         0   \n",
       "4                            0                         0   \n",
       "...                        ...                       ...   \n",
       "3984                         0                         0   \n",
       "3985                         0                         0   \n",
       "3986                         0                         1   \n",
       "3987                         0                         0   \n",
       "3988                         0                         0   \n",
       "\n",
       "      tenure_grp_tenure_5-6_yr  \n",
       "0                            0  \n",
       "1                            0  \n",
       "2                            0  \n",
       "3                            0  \n",
       "4                            1  \n",
       "...                        ...  \n",
       "3984                         0  \n",
       "3985                         1  \n",
       "3986                         0  \n",
       "3987                         0  \n",
       "3988                         1  \n",
       "\n",
       "[3989 rows x 40 columns]"
      ]
     },
     "execution_count": 47,
     "metadata": {},
     "output_type": "execute_result"
    }
   ],
   "source": [
    "train.reset_index(drop=True)"
   ]
  },
  {
   "cell_type": "code",
   "execution_count": 48,
   "metadata": {},
   "outputs": [],
   "source": [
    "train=train.merge(train_ss,on=train.index)"
   ]
  },
  {
   "cell_type": "code",
   "execution_count": 49,
   "metadata": {},
   "outputs": [],
   "source": [
    "scaled_col_test=ss.transform(val[num])"
   ]
  },
  {
   "cell_type": "code",
   "execution_count": 50,
   "metadata": {},
   "outputs": [],
   "source": [
    "val_ss=pd.DataFrame(data=scaled_col_test,columns=[num])"
   ]
  },
  {
   "cell_type": "code",
   "execution_count": 51,
   "metadata": {
    "scrolled": true
   },
   "outputs": [
    {
     "data": {
      "text/html": [
       "<div>\n",
       "<style scoped>\n",
       "    .dataframe tbody tr th:only-of-type {\n",
       "        vertical-align: middle;\n",
       "    }\n",
       "\n",
       "    .dataframe tbody tr th {\n",
       "        vertical-align: top;\n",
       "    }\n",
       "\n",
       "    .dataframe thead th {\n",
       "        text-align: right;\n",
       "    }\n",
       "</style>\n",
       "<table border=\"1\" class=\"dataframe\">\n",
       "  <thead>\n",
       "    <tr style=\"text-align: right;\">\n",
       "      <th></th>\n",
       "      <th>customerID</th>\n",
       "      <th>SeniorCitizen</th>\n",
       "      <th>Partner</th>\n",
       "      <th>Dependents</th>\n",
       "      <th>tenure</th>\n",
       "      <th>PhoneService</th>\n",
       "      <th>PaperlessBilling</th>\n",
       "      <th>MonthlyCharges</th>\n",
       "      <th>TotalCharges</th>\n",
       "      <th>Churn</th>\n",
       "      <th>...</th>\n",
       "      <th>PaymentMethod_Bank transfer (automatic)</th>\n",
       "      <th>PaymentMethod_Credit card (automatic)</th>\n",
       "      <th>PaymentMethod_Electronic check</th>\n",
       "      <th>PaymentMethod_Mailed check</th>\n",
       "      <th>tenure_grp_tenure_0-1_yr</th>\n",
       "      <th>tenure_grp_tenure_1-2_yr</th>\n",
       "      <th>tenure_grp_tenure_2-3_yr</th>\n",
       "      <th>tenure_grp_tenure_3-4_yr</th>\n",
       "      <th>tenure_grp_tenure_4-5_yr</th>\n",
       "      <th>tenure_grp_tenure_5-6_yr</th>\n",
       "    </tr>\n",
       "  </thead>\n",
       "  <tbody>\n",
       "    <tr>\n",
       "      <th>0</th>\n",
       "      <td>5088-QZLRL</td>\n",
       "      <td>0</td>\n",
       "      <td>0</td>\n",
       "      <td>0</td>\n",
       "      <td>1</td>\n",
       "      <td>1</td>\n",
       "      <td>0</td>\n",
       "      <td>20.65</td>\n",
       "      <td>20.65</td>\n",
       "      <td>0</td>\n",
       "      <td>...</td>\n",
       "      <td>0</td>\n",
       "      <td>0</td>\n",
       "      <td>1</td>\n",
       "      <td>0</td>\n",
       "      <td>1</td>\n",
       "      <td>0</td>\n",
       "      <td>0</td>\n",
       "      <td>0</td>\n",
       "      <td>0</td>\n",
       "      <td>0</td>\n",
       "    </tr>\n",
       "    <tr>\n",
       "      <th>1</th>\n",
       "      <td>0787-LHDYT</td>\n",
       "      <td>0</td>\n",
       "      <td>0</td>\n",
       "      <td>0</td>\n",
       "      <td>16</td>\n",
       "      <td>1</td>\n",
       "      <td>1</td>\n",
       "      <td>20.60</td>\n",
       "      <td>330.25</td>\n",
       "      <td>0</td>\n",
       "      <td>...</td>\n",
       "      <td>0</td>\n",
       "      <td>1</td>\n",
       "      <td>0</td>\n",
       "      <td>0</td>\n",
       "      <td>0</td>\n",
       "      <td>1</td>\n",
       "      <td>0</td>\n",
       "      <td>0</td>\n",
       "      <td>0</td>\n",
       "      <td>0</td>\n",
       "    </tr>\n",
       "    <tr>\n",
       "      <th>2</th>\n",
       "      <td>8562-GHPPI</td>\n",
       "      <td>0</td>\n",
       "      <td>0</td>\n",
       "      <td>0</td>\n",
       "      <td>1</td>\n",
       "      <td>1</td>\n",
       "      <td>0</td>\n",
       "      <td>19.80</td>\n",
       "      <td>19.80</td>\n",
       "      <td>0</td>\n",
       "      <td>...</td>\n",
       "      <td>0</td>\n",
       "      <td>1</td>\n",
       "      <td>0</td>\n",
       "      <td>0</td>\n",
       "      <td>1</td>\n",
       "      <td>0</td>\n",
       "      <td>0</td>\n",
       "      <td>0</td>\n",
       "      <td>0</td>\n",
       "      <td>0</td>\n",
       "    </tr>\n",
       "    <tr>\n",
       "      <th>3</th>\n",
       "      <td>1334-FJSVR</td>\n",
       "      <td>0</td>\n",
       "      <td>0</td>\n",
       "      <td>0</td>\n",
       "      <td>1</td>\n",
       "      <td>0</td>\n",
       "      <td>1</td>\n",
       "      <td>24.25</td>\n",
       "      <td>24.25</td>\n",
       "      <td>1</td>\n",
       "      <td>...</td>\n",
       "      <td>0</td>\n",
       "      <td>0</td>\n",
       "      <td>1</td>\n",
       "      <td>0</td>\n",
       "      <td>1</td>\n",
       "      <td>0</td>\n",
       "      <td>0</td>\n",
       "      <td>0</td>\n",
       "      <td>0</td>\n",
       "      <td>0</td>\n",
       "    </tr>\n",
       "    <tr>\n",
       "      <th>4</th>\n",
       "      <td>3551-HUAZH</td>\n",
       "      <td>1</td>\n",
       "      <td>0</td>\n",
       "      <td>0</td>\n",
       "      <td>1</td>\n",
       "      <td>1</td>\n",
       "      <td>1</td>\n",
       "      <td>74.40</td>\n",
       "      <td>74.40</td>\n",
       "      <td>1</td>\n",
       "      <td>...</td>\n",
       "      <td>0</td>\n",
       "      <td>0</td>\n",
       "      <td>1</td>\n",
       "      <td>0</td>\n",
       "      <td>1</td>\n",
       "      <td>0</td>\n",
       "      <td>0</td>\n",
       "      <td>0</td>\n",
       "      <td>0</td>\n",
       "      <td>0</td>\n",
       "    </tr>\n",
       "    <tr>\n",
       "      <th>...</th>\n",
       "      <td>...</td>\n",
       "      <td>...</td>\n",
       "      <td>...</td>\n",
       "      <td>...</td>\n",
       "      <td>...</td>\n",
       "      <td>...</td>\n",
       "      <td>...</td>\n",
       "      <td>...</td>\n",
       "      <td>...</td>\n",
       "      <td>...</td>\n",
       "      <td>...</td>\n",
       "      <td>...</td>\n",
       "      <td>...</td>\n",
       "      <td>...</td>\n",
       "      <td>...</td>\n",
       "      <td>...</td>\n",
       "      <td>...</td>\n",
       "      <td>...</td>\n",
       "      <td>...</td>\n",
       "      <td>...</td>\n",
       "      <td>...</td>\n",
       "    </tr>\n",
       "    <tr>\n",
       "      <th>3038</th>\n",
       "      <td>2320-TZRRH</td>\n",
       "      <td>0</td>\n",
       "      <td>0</td>\n",
       "      <td>0</td>\n",
       "      <td>20</td>\n",
       "      <td>1</td>\n",
       "      <td>0</td>\n",
       "      <td>19.50</td>\n",
       "      <td>403.15</td>\n",
       "      <td>0</td>\n",
       "      <td>...</td>\n",
       "      <td>0</td>\n",
       "      <td>0</td>\n",
       "      <td>0</td>\n",
       "      <td>1</td>\n",
       "      <td>0</td>\n",
       "      <td>1</td>\n",
       "      <td>0</td>\n",
       "      <td>0</td>\n",
       "      <td>0</td>\n",
       "      <td>0</td>\n",
       "    </tr>\n",
       "    <tr>\n",
       "      <th>3039</th>\n",
       "      <td>8071-SBTRN</td>\n",
       "      <td>0</td>\n",
       "      <td>0</td>\n",
       "      <td>0</td>\n",
       "      <td>70</td>\n",
       "      <td>1</td>\n",
       "      <td>1</td>\n",
       "      <td>111.15</td>\n",
       "      <td>7737.55</td>\n",
       "      <td>0</td>\n",
       "      <td>...</td>\n",
       "      <td>0</td>\n",
       "      <td>0</td>\n",
       "      <td>0</td>\n",
       "      <td>1</td>\n",
       "      <td>0</td>\n",
       "      <td>0</td>\n",
       "      <td>0</td>\n",
       "      <td>0</td>\n",
       "      <td>0</td>\n",
       "      <td>1</td>\n",
       "    </tr>\n",
       "    <tr>\n",
       "      <th>3040</th>\n",
       "      <td>6849-OYAMU</td>\n",
       "      <td>0</td>\n",
       "      <td>1</td>\n",
       "      <td>1</td>\n",
       "      <td>19</td>\n",
       "      <td>1</td>\n",
       "      <td>0</td>\n",
       "      <td>100.00</td>\n",
       "      <td>1888.65</td>\n",
       "      <td>1</td>\n",
       "      <td>...</td>\n",
       "      <td>1</td>\n",
       "      <td>0</td>\n",
       "      <td>0</td>\n",
       "      <td>0</td>\n",
       "      <td>0</td>\n",
       "      <td>1</td>\n",
       "      <td>0</td>\n",
       "      <td>0</td>\n",
       "      <td>0</td>\n",
       "      <td>0</td>\n",
       "    </tr>\n",
       "    <tr>\n",
       "      <th>3041</th>\n",
       "      <td>5857-TYBCJ</td>\n",
       "      <td>1</td>\n",
       "      <td>1</td>\n",
       "      <td>0</td>\n",
       "      <td>44</td>\n",
       "      <td>1</td>\n",
       "      <td>1</td>\n",
       "      <td>89.20</td>\n",
       "      <td>4040.20</td>\n",
       "      <td>0</td>\n",
       "      <td>...</td>\n",
       "      <td>0</td>\n",
       "      <td>0</td>\n",
       "      <td>1</td>\n",
       "      <td>0</td>\n",
       "      <td>0</td>\n",
       "      <td>0</td>\n",
       "      <td>0</td>\n",
       "      <td>1</td>\n",
       "      <td>0</td>\n",
       "      <td>0</td>\n",
       "    </tr>\n",
       "    <tr>\n",
       "      <th>3042</th>\n",
       "      <td>7024-OHCCK</td>\n",
       "      <td>1</td>\n",
       "      <td>0</td>\n",
       "      <td>0</td>\n",
       "      <td>2</td>\n",
       "      <td>1</td>\n",
       "      <td>1</td>\n",
       "      <td>93.85</td>\n",
       "      <td>170.85</td>\n",
       "      <td>1</td>\n",
       "      <td>...</td>\n",
       "      <td>0</td>\n",
       "      <td>0</td>\n",
       "      <td>1</td>\n",
       "      <td>0</td>\n",
       "      <td>1</td>\n",
       "      <td>0</td>\n",
       "      <td>0</td>\n",
       "      <td>0</td>\n",
       "      <td>0</td>\n",
       "      <td>0</td>\n",
       "    </tr>\n",
       "  </tbody>\n",
       "</table>\n",
       "<p>3043 rows × 40 columns</p>\n",
       "</div>"
      ],
      "text/plain": [
       "      customerID  SeniorCitizen  Partner  Dependents  tenure  PhoneService  \\\n",
       "0     5088-QZLRL              0        0           0       1             1   \n",
       "1     0787-LHDYT              0        0           0      16             1   \n",
       "2     8562-GHPPI              0        0           0       1             1   \n",
       "3     1334-FJSVR              0        0           0       1             0   \n",
       "4     3551-HUAZH              1        0           0       1             1   \n",
       "...          ...            ...      ...         ...     ...           ...   \n",
       "3038  2320-TZRRH              0        0           0      20             1   \n",
       "3039  8071-SBTRN              0        0           0      70             1   \n",
       "3040  6849-OYAMU              0        1           1      19             1   \n",
       "3041  5857-TYBCJ              1        1           0      44             1   \n",
       "3042  7024-OHCCK              1        0           0       2             1   \n",
       "\n",
       "      PaperlessBilling  MonthlyCharges  TotalCharges  Churn  ...  \\\n",
       "0                    0           20.65         20.65      0  ...   \n",
       "1                    1           20.60        330.25      0  ...   \n",
       "2                    0           19.80         19.80      0  ...   \n",
       "3                    1           24.25         24.25      1  ...   \n",
       "4                    1           74.40         74.40      1  ...   \n",
       "...                ...             ...           ...    ...  ...   \n",
       "3038                 0           19.50        403.15      0  ...   \n",
       "3039                 1          111.15       7737.55      0  ...   \n",
       "3040                 0          100.00       1888.65      1  ...   \n",
       "3041                 1           89.20       4040.20      0  ...   \n",
       "3042                 1           93.85        170.85      1  ...   \n",
       "\n",
       "      PaymentMethod_Bank transfer (automatic)  \\\n",
       "0                                           0   \n",
       "1                                           0   \n",
       "2                                           0   \n",
       "3                                           0   \n",
       "4                                           0   \n",
       "...                                       ...   \n",
       "3038                                        0   \n",
       "3039                                        0   \n",
       "3040                                        1   \n",
       "3041                                        0   \n",
       "3042                                        0   \n",
       "\n",
       "      PaymentMethod_Credit card (automatic)  PaymentMethod_Electronic check  \\\n",
       "0                                         0                               1   \n",
       "1                                         1                               0   \n",
       "2                                         1                               0   \n",
       "3                                         0                               1   \n",
       "4                                         0                               1   \n",
       "...                                     ...                             ...   \n",
       "3038                                      0                               0   \n",
       "3039                                      0                               0   \n",
       "3040                                      0                               0   \n",
       "3041                                      0                               1   \n",
       "3042                                      0                               1   \n",
       "\n",
       "      PaymentMethod_Mailed check  tenure_grp_tenure_0-1_yr  \\\n",
       "0                              0                         1   \n",
       "1                              0                         0   \n",
       "2                              0                         1   \n",
       "3                              0                         1   \n",
       "4                              0                         1   \n",
       "...                          ...                       ...   \n",
       "3038                           1                         0   \n",
       "3039                           1                         0   \n",
       "3040                           0                         0   \n",
       "3041                           0                         0   \n",
       "3042                           0                         1   \n",
       "\n",
       "      tenure_grp_tenure_1-2_yr  tenure_grp_tenure_2-3_yr  \\\n",
       "0                            0                         0   \n",
       "1                            1                         0   \n",
       "2                            0                         0   \n",
       "3                            0                         0   \n",
       "4                            0                         0   \n",
       "...                        ...                       ...   \n",
       "3038                         1                         0   \n",
       "3039                         0                         0   \n",
       "3040                         1                         0   \n",
       "3041                         0                         0   \n",
       "3042                         0                         0   \n",
       "\n",
       "      tenure_grp_tenure_3-4_yr  tenure_grp_tenure_4-5_yr  \\\n",
       "0                            0                         0   \n",
       "1                            0                         0   \n",
       "2                            0                         0   \n",
       "3                            0                         0   \n",
       "4                            0                         0   \n",
       "...                        ...                       ...   \n",
       "3038                         0                         0   \n",
       "3039                         0                         0   \n",
       "3040                         0                         0   \n",
       "3041                         1                         0   \n",
       "3042                         0                         0   \n",
       "\n",
       "      tenure_grp_tenure_5-6_yr  \n",
       "0                            0  \n",
       "1                            0  \n",
       "2                            0  \n",
       "3                            0  \n",
       "4                            0  \n",
       "...                        ...  \n",
       "3038                         0  \n",
       "3039                         1  \n",
       "3040                         0  \n",
       "3041                         0  \n",
       "3042                         0  \n",
       "\n",
       "[3043 rows x 40 columns]"
      ]
     },
     "execution_count": 51,
     "metadata": {},
     "output_type": "execute_result"
    }
   ],
   "source": [
    "val.reset_index(drop=True)"
   ]
  },
  {
   "cell_type": "code",
   "execution_count": 52,
   "metadata": {},
   "outputs": [],
   "source": [
    "val=val.merge(val_ss,on=val.index)"
   ]
  },
  {
   "cell_type": "markdown",
   "metadata": {},
   "source": [
    "Splitting the data into X_train ,y_train,X_test,y_test"
   ]
  },
  {
   "cell_type": "code",
   "execution_count": 53,
   "metadata": {},
   "outputs": [],
   "source": [
    "X_train=train.drop([\"key_0\",\"customerID\",\"Churn\"],axis=1)"
   ]
  },
  {
   "cell_type": "code",
   "execution_count": 54,
   "metadata": {},
   "outputs": [],
   "source": [
    "y_train=train[\"Churn\"]"
   ]
  },
  {
   "cell_type": "code",
   "execution_count": 55,
   "metadata": {},
   "outputs": [],
   "source": [
    "X_val=val.drop([\"key_0\",\"customerID\",\"Churn\"],axis=1)\n",
    "y_val=val[\"Churn\"]"
   ]
  },
  {
   "cell_type": "code",
   "execution_count": 56,
   "metadata": {},
   "outputs": [],
   "source": [
    "X_val.drop(num,axis=1,inplace=True)#removing duplicate columns"
   ]
  },
  {
   "cell_type": "code",
   "execution_count": 57,
   "metadata": {},
   "outputs": [],
   "source": [
    "X_train.drop(num,axis=1,inplace=True)#removing duplicate columns"
   ]
  },
  {
   "cell_type": "code",
   "execution_count": 58,
   "metadata": {},
   "outputs": [
    {
     "data": {
      "text/plain": [
       "((3989, 38), (3989,), (3043, 38), (3043,))"
      ]
     },
     "execution_count": 58,
     "metadata": {},
     "output_type": "execute_result"
    }
   ],
   "source": [
    "X_train.shape,y_train.shape,X_val.shape,y_val.shape"
   ]
  },
  {
   "cell_type": "markdown",
   "metadata": {},
   "source": [
    "Computing the class weights for imbalanced class distribution"
   ]
  },
  {
   "cell_type": "code",
   "execution_count": 59,
   "metadata": {},
   "outputs": [],
   "source": [
    "#class weights as our dataset is imbalanced\n",
    "from sklearn.utils import compute_class_weight\n",
    "class_wt=compute_class_weight(\"balanced\",np.unique(y_train),y_train)"
   ]
  },
  {
   "cell_type": "code",
   "execution_count": 60,
   "metadata": {},
   "outputs": [],
   "source": [
    "class_wt1={0:class_wt[0],1:class_wt[1]}"
   ]
  },
  {
   "cell_type": "code",
   "execution_count": 61,
   "metadata": {},
   "outputs": [
    {
     "data": {
      "text/plain": [
       "{0: 0.6790943139257746, 1: 1.895912547528517}"
      ]
     },
     "execution_count": 61,
     "metadata": {},
     "output_type": "execute_result"
    }
   ],
   "source": [
    "class_wt1"
   ]
  },
  {
   "cell_type": "code",
   "execution_count": 66,
   "metadata": {},
   "outputs": [],
   "source": [
    "from sklearn.metrics import plot_confusion_matrix,classification_report,plot_roc_curve"
   ]
  },
  {
   "cell_type": "markdown",
   "metadata": {},
   "source": [
    "# Model Building "
   ]
  },
  {
   "cell_type": "markdown",
   "metadata": {},
   "source": [
    "1) Logistic Regression"
   ]
  },
  {
   "cell_type": "code",
   "execution_count": 67,
   "metadata": {},
   "outputs": [
    {
     "name": "stdout",
     "output_type": "stream",
     "text": [
      "0.8094760591626974\n",
      "0.807426881367072\n",
      "              precision    recall  f1-score   support\n",
      "\n",
      "           0       0.84      0.91      0.87      2226\n",
      "           1       0.68      0.54      0.60       817\n",
      "\n",
      "    accuracy                           0.81      3043\n",
      "   macro avg       0.76      0.72      0.74      3043\n",
      "weighted avg       0.80      0.81      0.80      3043\n",
      "\n"
     ]
    },
    {
     "data": {
      "image/png": "[encoded data removed]",
      "text/plain": [
       "<Figure size 432x288 with 1 Axes>"
      ]
     },
     "metadata": {
      "needs_background": "light"
     },
     "output_type": "display_data"
    },
    {
     "data": {
      "image/png": "[encoded data removed]",
      "text/plain": [
       "<Figure size 432x288 with 1 Axes>"
      ]
     },
     "metadata": {
      "needs_background": "light"
     },
     "output_type": "display_data"
    }
   ],
   "source": [
    "from sklearn.linear_model import LogisticRegression\n",
    "lr=LogisticRegression()\n",
    "lr.fit(X_train,y_train)\n",
    "print(lr.score(X_train,y_train))\n",
    "print(lr.score(X_val,y_val))\n",
    "plot_roc_curve(lr,X_train,y_train)\n",
    "plot_roc_curve(lr,X_val,y_val)\n",
    "print(classification_report(y_val,lr.predict(X_val)))"
   ]
  },
  {
   "cell_type": "markdown",
   "metadata": {},
   "source": [
    "2) KNN Classifiers"
   ]
  },
  {
   "cell_type": "code",
   "execution_count": 68,
   "metadata": {},
   "outputs": [
    {
     "name": "stdout",
     "output_type": "stream",
     "text": [
      "0.8373025821007771\n",
      "0.7633913900755833\n",
      "              precision    recall  f1-score   support\n",
      "\n",
      "           0       0.84      0.84      0.84      2226\n",
      "           1       0.56      0.55      0.55       817\n",
      "\n",
      "    accuracy                           0.76      3043\n",
      "   macro avg       0.70      0.69      0.70      3043\n",
      "weighted avg       0.76      0.76      0.76      3043\n",
      "\n"
     ]
    },
    {
     "data": {
      "image/png": "[encoded data removed]",
      "text/plain": [
       "<Figure size 432x288 with 1 Axes>"
      ]
     },
     "metadata": {
      "needs_background": "light"
     },
     "output_type": "display_data"
    },
    {
     "data": {
      "image/png": "[encoded data removed]",
      "text/plain": [
       "<Figure size 432x288 with 1 Axes>"
      ]
     },
     "metadata": {
      "needs_background": "light"
     },
     "output_type": "display_data"
    }
   ],
   "source": [
    "from sklearn.neighbors import KNeighborsClassifier\n",
    "knn=KNeighborsClassifier()\n",
    "knn.fit(X_train,y_train)\n",
    "print(knn.score(X_train,y_train))\n",
    "print(knn.score(X_val,y_val))\n",
    "plot_roc_curve(knn,X_train,y_train)\n",
    "plot_roc_curve(knn,X_val,y_val)\n",
    "print(classification_report(y_val,knn.predict(X_val)))"
   ]
  },
  {
   "cell_type": "code",
   "execution_count": 69,
   "metadata": {},
   "outputs": [
    {
     "data": {
      "text/plain": [
       "<matplotlib.axes._subplots.AxesSubplot at 0x1abffd34d30>"
      ]
     },
     "execution_count": 69,
     "metadata": {},
     "output_type": "execute_result"
    },
    {
     "data": {
      "image/png": "[encoded data removed]",
      "text/plain": [
       "<Figure size 432x288 with 1 Axes>"
      ]
     },
     "metadata": {
      "needs_background": "light"
     },
     "output_type": "display_data"
    }
   ],
   "source": [
    "#elbow method \n",
    "n=[2,3,4,5,6,7,8,10,15,20,25,30,35,40,45,50]\n",
    "error_rate=[]\n",
    "for i in n:\n",
    "    knn=KNeighborsClassifier(n_neighbors=i)\n",
    "    knn.fit(X_train,y_train)\n",
    "    predict=knn.predict(X_val)\n",
    "    error_rate.append(np.mean(predict!=y_val))\n",
    "sns.lineplot(n,error_rate,marker=\"o\",markerfacecolor=\"red\")"
   ]
  },
  {
   "cell_type": "markdown",
   "metadata": {},
   "source": [
    "The maximum score is at n_neighbors=40"
   ]
  },
  {
   "cell_type": "code",
   "execution_count": 70,
   "metadata": {},
   "outputs": [
    {
     "name": "stdout",
     "output_type": "stream",
     "text": [
      "0.8037102030584107\n",
      "0.8021689122576405\n",
      "              precision    recall  f1-score   support\n",
      "\n",
      "           0       0.84      0.89      0.87      2226\n",
      "           1       0.66      0.55      0.60       817\n",
      "\n",
      "    accuracy                           0.80      3043\n",
      "   macro avg       0.75      0.72      0.73      3043\n",
      "weighted avg       0.79      0.80      0.80      3043\n",
      "\n"
     ]
    },
    {
     "data": {
      "image/png": "[encoded data removed]",
      "text/plain": [
       "<Figure size 432x288 with 1 Axes>"
      ]
     },
     "metadata": {
      "needs_background": "light"
     },
     "output_type": "display_data"
    },
    {
     "data": {
      "image/png": "[encoded data removed]",
      "text/plain": [
       "<Figure size 432x288 with 1 Axes>"
      ]
     },
     "metadata": {
      "needs_background": "light"
     },
     "output_type": "display_data"
    }
   ],
   "source": [
    "knn=KNeighborsClassifier(n_neighbors=40)\n",
    "knn.fit(X_train,y_train)\n",
    "print(knn.score(X_train,y_train))\n",
    "print(knn.score(X_val,y_val))\n",
    "plot_roc_curve(knn,X_train,y_train)\n",
    "plot_roc_curve(knn,X_val,y_val)\n",
    "print(classification_report(y_val,knn.predict(X_val)))"
   ]
  },
  {
   "cell_type": "markdown",
   "metadata": {},
   "source": [
    "3) Random Forest"
   ]
  },
  {
   "cell_type": "code",
   "execution_count": 71,
   "metadata": {},
   "outputs": [
    {
     "name": "stdout",
     "output_type": "stream",
     "text": [
      "0.9974931060416145\n",
      "0.7903384817614196\n",
      "              precision    recall  f1-score   support\n",
      "\n",
      "           0       0.83      0.90      0.86      2226\n",
      "           1       0.64      0.49      0.56       817\n",
      "\n",
      "    accuracy                           0.79      3043\n",
      "   macro avg       0.74      0.70      0.71      3043\n",
      "weighted avg       0.78      0.79      0.78      3043\n",
      "\n"
     ]
    },
    {
     "data": {
      "image/png": "[encoded data removed]",
      "text/plain": [
       "<Figure size 432x288 with 1 Axes>"
      ]
     },
     "metadata": {
      "needs_background": "light"
     },
     "output_type": "display_data"
    },
    {
     "data": {
      "image/png": "[encoded data removed]",
      "text/plain": [
       "<Figure size 432x288 with 1 Axes>"
      ]
     },
     "metadata": {
      "needs_background": "light"
     },
     "output_type": "display_data"
    }
   ],
   "source": [
    "from sklearn.ensemble import RandomForestClassifier\n",
    "from sklearn.model_selection import cross_val_score\n",
    "rf=RandomForestClassifier(class_weight=class_wt1,random_state=0)\n",
    "rf.fit(X_train,y_train)\n",
    "print(rf.score(X_train,y_train))\n",
    "print(rf.score(X_val,y_val))\n",
    "plot_roc_curve(rf,X_train,y_train)\n",
    "plot_roc_curve(rf,X_val,y_val)\n",
    "print(classification_report(y_val,rf.predict(X_val)))\n",
    "\n"
   ]
  },
  {
   "cell_type": "markdown",
   "metadata": {},
   "source": [
    "Our model is overfitting the data so we will need to apply some regularization to our model."
   ]
  },
  {
   "cell_type": "code",
   "execution_count": 72,
   "metadata": {},
   "outputs": [
    {
     "name": "stdout",
     "output_type": "stream",
     "text": [
      "Fitting 5 folds for each of 350 candidates, totalling 1750 fits\n"
     ]
    },
    {
     "name": "stderr",
     "output_type": "stream",
     "text": [
      "[Parallel(n_jobs=-1)]: Using backend LokyBackend with 8 concurrent workers.\n",
      "[Parallel(n_jobs=-1)]: Done  25 tasks      | elapsed:    6.6s\n",
      "[Parallel(n_jobs=-1)]: Done 146 tasks      | elapsed:   31.2s\n",
      "[Parallel(n_jobs=-1)]: Done 349 tasks      | elapsed:  1.5min\n",
      "[Parallel(n_jobs=-1)]: Done 632 tasks      | elapsed:  5.1min\n",
      "[Parallel(n_jobs=-1)]: Done 997 tasks      | elapsed:  6.9min\n",
      "[Parallel(n_jobs=-1)]: Done 1442 tasks      | elapsed:  9.7min\n",
      "[Parallel(n_jobs=-1)]: Done 1750 out of 1750 | elapsed: 11.7min finished\n"
     ]
    },
    {
     "data": {
      "text/plain": [
       "GridSearchCV(cv=5,\n",
       "             estimator=RandomForestClassifier(class_weight={0: 0.6790943139257746,\n",
       "                                                            1: 1.895912547528517},\n",
       "                                              random_state=0),\n",
       "             n_jobs=-1,\n",
       "             param_grid={'max_depth': [2, 3, 4, 5, 7, 9, 10, 11, 12, 13],\n",
       "                         'max_features': [2, 3, 4, 5, 7, 8, 9],\n",
       "                         'n_estimators': [200, 300, 400, 500, 1000]},\n",
       "             scoring='roc_auc', verbose=2)"
      ]
     },
     "execution_count": 72,
     "metadata": {},
     "output_type": "execute_result"
    }
   ],
   "source": [
    "from sklearn.model_selection import GridSearchCV\n",
    "params={\"max_depth\":[2,3,4,5,7,9,10,11,12,13],\"max_features\":[2,3,4,5,7,8,9],\"n_estimators\":[200,300,400,500,1000]}\n",
    "grf=GridSearchCV(RandomForestClassifier(class_weight=class_wt1,random_state=0),param_grid=params,cv=5,n_jobs=-1,verbose=2,scoring=\"roc_auc\")\n",
    "grf.fit(X_train,y_train)"
   ]
  },
  {
   "cell_type": "code",
   "execution_count": 75,
   "metadata": {},
   "outputs": [
    {
     "data": {
      "text/plain": [
       "RandomForestClassifier(class_weight={0: 0.6790943139257746,\n",
       "                                     1: 1.895912547528517},\n",
       "                       max_depth=7, max_features=4, n_estimators=400,\n",
       "                       random_state=0)"
      ]
     },
     "execution_count": 75,
     "metadata": {},
     "output_type": "execute_result"
    }
   ],
   "source": [
    "grf.best_estimator_"
   ]
  },
  {
   "cell_type": "code",
   "execution_count": 76,
   "metadata": {},
   "outputs": [
    {
     "name": "stdout",
     "output_type": "stream",
     "text": [
      "0.7904236650789671\n",
      "0.7666776207689779\n",
      "              precision    recall  f1-score   support\n",
      "\n",
      "           0       0.91      0.76      0.83      2226\n",
      "           1       0.55      0.79      0.65       817\n",
      "\n",
      "    accuracy                           0.77      3043\n",
      "   macro avg       0.73      0.77      0.74      3043\n",
      "weighted avg       0.81      0.77      0.78      3043\n",
      "\n"
     ]
    },
    {
     "data": {
      "image/png": "[encoded data removed]",
      "text/plain": [
       "<Figure size 432x288 with 1 Axes>"
      ]
     },
     "metadata": {
      "needs_background": "light"
     },
     "output_type": "display_data"
    },
    {
     "data": {
      "image/png": "[encoded data removed]",
      "text/plain": [
       "<Figure size 432x288 with 1 Axes>"
      ]
     },
     "metadata": {
      "needs_background": "light"
     },
     "output_type": "display_data"
    }
   ],
   "source": [
    "rf1=RandomForestClassifier(class_weight=class_wt1,max_depth=7, max_features=4, n_estimators=400,\n",
    "                       random_state=0)\n",
    "rf1.fit(X_train,y_train)\n",
    "print(rf1.score(X_train,y_train))\n",
    "print(rf1.score(X_val,y_val))\n",
    "plot_roc_curve(rf1,X_train,y_train)\n",
    "plot_roc_curve(rf1,X_val,y_val)\n",
    "print(classification_report(y_val,rf1.predict(X_val)))"
   ]
  },
  {
   "cell_type": "code",
   "execution_count": 77,
   "metadata": {},
   "outputs": [
    {
     "name": "stdout",
     "output_type": "stream",
     "text": [
      "0.7718726497869141\n",
      "0.7587906671048308\n",
      "              precision    recall  f1-score   support\n",
      "\n",
      "           0       0.90      0.75      0.82      2226\n",
      "           1       0.53      0.79      0.64       817\n",
      "\n",
      "    accuracy                           0.76      3043\n",
      "   macro avg       0.72      0.77      0.73      3043\n",
      "weighted avg       0.81      0.76      0.77      3043\n",
      "\n"
     ]
    },
    {
     "data": {
      "image/png": "[encoded data removed]",
      "text/plain": [
       "<Figure size 432x288 with 1 Axes>"
      ]
     },
     "metadata": {
      "needs_background": "light"
     },
     "output_type": "display_data"
    },
    {
     "data": {
      "image/png": "[encoded data removed]",
      "text/plain": [
       "<Figure size 432x288 with 1 Axes>"
      ]
     },
     "metadata": {
      "needs_background": "light"
     },
     "output_type": "display_data"
    }
   ],
   "source": [
    "#svm\n",
    "\n",
    "from sklearn.svm import SVC\n",
    "svm=SVC(class_weight=class_wt1,random_state=0)\n",
    "svm.fit(X_train,y_train)\n",
    "print(svm.score(X_train,y_train))\n",
    "print(svm.score(X_val,y_val))\n",
    "plot_roc_curve(svm,X_train,y_train)\n",
    "plot_roc_curve(svm,X_val,y_val)\n",
    "print(classification_report(y_val,svm.predict(X_val)))"
   ]
  },
  {
   "cell_type": "code",
   "execution_count": 78,
   "metadata": {},
   "outputs": [
    {
     "name": "stdout",
     "output_type": "stream",
     "text": [
      "Fitting 5 folds for each of 40 candidates, totalling 200 fits\n"
     ]
    },
    {
     "name": "stderr",
     "output_type": "stream",
     "text": [
      "[Parallel(n_jobs=-1)]: Using backend LokyBackend with 8 concurrent workers.\n",
      "[Parallel(n_jobs=-1)]: Done  25 tasks      | elapsed:    4.9s\n",
      "[Parallel(n_jobs=-1)]: Done 146 tasks      | elapsed:   28.0s\n",
      "[Parallel(n_jobs=-1)]: Done 200 out of 200 | elapsed:   42.4s finished\n"
     ]
    },
    {
     "data": {
      "text/plain": [
       "GridSearchCV(cv=5,\n",
       "             estimator=SVC(class_weight={0: 0.6790943139257746,\n",
       "                                         1: 1.895912547528517},\n",
       "                           random_state=0),\n",
       "             n_jobs=-1,\n",
       "             param_grid={'C': [0.01, 0.05, 0.1, 0.5, 1, 10, 50, 100, 150, 1000],\n",
       "                         'gamma': [0.02, 1, 10, 100]},\n",
       "             scoring='roc_auc', verbose=2)"
      ]
     },
     "execution_count": 78,
     "metadata": {},
     "output_type": "execute_result"
    }
   ],
   "source": [
    "from sklearn.model_selection import GridSearchCV\n",
    "params={\"C\":[0.01,0.05,0.1,0.5,1,10,50,100,150,1000],\"gamma\":[0.02,1,10,100]}\n",
    "grf=GridSearchCV(SVC(class_weight=class_wt1,random_state=0),param_grid=params,cv=5,n_jobs=-1,verbose=2,scoring=\"roc_auc\")\n",
    "grf.fit(X_train,y_train)"
   ]
  },
  {
   "cell_type": "code",
   "execution_count": 79,
   "metadata": {},
   "outputs": [
    {
     "data": {
      "text/plain": [
       "SVC(C=0.5, class_weight={0: 0.6790943139257746, 1: 1.895912547528517},\n",
       "    gamma=0.02, random_state=0)"
      ]
     },
     "execution_count": 79,
     "metadata": {},
     "output_type": "execute_result"
    }
   ],
   "source": [
    "grf.best_estimator_"
   ]
  },
  {
   "cell_type": "code",
   "execution_count": 80,
   "metadata": {},
   "outputs": [
    {
     "name": "stdout",
     "output_type": "stream",
     "text": [
      "0.738029581348709\n",
      "0.7469602366086099\n",
      "              precision    recall  f1-score   support\n",
      "\n",
      "           0       0.91      0.72      0.81      2226\n",
      "           1       0.52      0.82      0.63       817\n",
      "\n",
      "    accuracy                           0.75      3043\n",
      "   macro avg       0.72      0.77      0.72      3043\n",
      "weighted avg       0.81      0.75      0.76      3043\n",
      "\n"
     ]
    },
    {
     "data": {
      "image/png": "[encoded data removed]",
      "text/plain": [
       "<Figure size 432x288 with 1 Axes>"
      ]
     },
     "metadata": {
      "needs_background": "light"
     },
     "output_type": "display_data"
    },
    {
     "data": {
      "image/png": "[encoded data removed]",
      "text/plain": [
       "<Figure size 432x288 with 1 Axes>"
      ]
     },
     "metadata": {
      "needs_background": "light"
     },
     "output_type": "display_data"
    }
   ],
   "source": [
    "svm=SVC(C=0.1, class_weight={0: 0.6790943139257746, 1: 1.895912547528517},\n",
    "    gamma=0.02, random_state=0)\n",
    "svm.fit(X_train,y_train)\n",
    "print(svm.score(X_train,y_train))\n",
    "print(svm.score(X_val,y_val))\n",
    "plot_roc_curve(svm,X_train,y_train)\n",
    "plot_roc_curve(svm,X_val,y_val)\n",
    "print(classification_report(y_val,svm.predict(X_val)))"
   ]
  },
  {
   "cell_type": "markdown",
   "metadata": {},
   "source": [
    "# FINAL MODEL"
   ]
  },
  {
   "cell_type": "code",
   "execution_count": 86,
   "metadata": {},
   "outputs": [
    {
     "data": {
      "text/plain": [
       "array([[ 0.34197732,  0.09480264, -0.20401852, -0.17101936,  0.45765562,\n",
       "        -0.25035936,  0.07934   , -0.28527841,  0.58311689, -0.29494586,\n",
       "         0.26884395,  0.02899453,  0.21257966,  0.08525882,  0.06763772,\n",
       "         0.23020076,  0.31477576, -0.01693728, -0.01370892,  0.3115474 ,\n",
       "         0.00747793,  0.29036055,  0.70517991, -0.01394159, -0.68834569,\n",
       "        -0.03254727, -0.16977452,  0.30900517, -0.10379076, -0.76531945,\n",
       "        -0.76601117, -0.48699892,  0.18866034,  0.7059034 ,  1.12665841,\n",
       "        -0.18142664,  0.27814069, -1.80991472]])"
      ]
     },
     "execution_count": 86,
     "metadata": {},
     "output_type": "execute_result"
    }
   ],
   "source": [
    "lr.coef_"
   ]
  },
  {
   "cell_type": "code",
   "execution_count": 87,
   "metadata": {},
   "outputs": [
    {
     "data": {
      "text/plain": [
       "<matplotlib.axes._subplots.AxesSubplot at 0x1ab815b56d0>"
      ]
     },
     "execution_count": 87,
     "metadata": {},
     "output_type": "execute_result"
    },
    {
     "data": {
      "image/png": "[encoded data removed]",
      "text/plain": [
       "<Figure size 1080x432 with 1 Axes>"
      ]
     },
     "metadata": {
      "needs_background": "light"
     },
     "output_type": "display_data"
    }
   ],
   "source": [
    "plt.figure(figsize=(15,6))\n",
    "importance=pd.Series(data=lr.coef_[0],index=X_train.columns.values)\n",
    "importance.sort_values(ascending=False)[:10].plot(kind=\"bar\")"
   ]
  },
  {
   "cell_type": "code",
   "execution_count": 88,
   "metadata": {},
   "outputs": [
    {
     "data": {
      "text/plain": [
       "<matplotlib.axes._subplots.AxesSubplot at 0x1ab84679190>"
      ]
     },
     "execution_count": 88,
     "metadata": {},
     "output_type": "execute_result"
    },
    {
     "data": {
      "image/png": "[encoded data removed]",
      "text/plain": [
       "<Figure size 1080x432 with 1 Axes>"
      ]
     },
     "metadata": {
      "needs_background": "light"
     },
     "output_type": "display_data"
    }
   ],
   "source": [
    "plt.figure(figsize=(15,6))\n",
    "importance.sort_values(ascending=True)[:10].plot(kind=\"bar\")data:image/png;base64,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"
   ]
  },
  {
   "cell_type": "code",
   "execution_count": 89,
   "metadata": {},
   "outputs": [],
   "source": [
    "x=importance.sort_values(ascending=True)[:10].index\n",
    "y=importance.sort_values(ascending=False)[:10].index"
   ]
  },
  {
   "cell_type": "code",
   "execution_count": 90,
   "metadata": {},
   "outputs": [],
   "source": [
    "lst=[i for i in x]\n",
    "lst1=[i for i in y]"
   ]
  },
  {
   "cell_type": "code",
   "execution_count": 91,
   "metadata": {},
   "outputs": [],
   "source": [
    "col=lst1+lst"
   ]
  },
  {
   "cell_type": "code",
   "execution_count": 92,
   "metadata": {},
   "outputs": [
    {
     "data": {
      "text/html": [
       "<div>\n",
       "<style scoped>\n",
       "    .dataframe tbody tr th:only-of-type {\n",
       "        vertical-align: middle;\n",
       "    }\n",
       "\n",
       "    .dataframe tbody tr th {\n",
       "        vertical-align: top;\n",
       "    }\n",
       "\n",
       "    .dataframe thead th {\n",
       "        text-align: right;\n",
       "    }\n",
       "</style>\n",
       "<table border=\"1\" class=\"dataframe\">\n",
       "  <thead>\n",
       "    <tr style=\"text-align: right;\">\n",
       "      <th></th>\n",
       "      <th>(tenure,)</th>\n",
       "      <th>tenure_grp_tenure_1-2_yr</th>\n",
       "      <th>tenure_grp_tenure_0-1_yr</th>\n",
       "      <th>Contract_Two year</th>\n",
       "      <th>tenure_grp_tenure_2-3_yr</th>\n",
       "      <th>InternetService_No</th>\n",
       "      <th>InternetService_DSL</th>\n",
       "      <th>MultipleLines_No</th>\n",
       "      <th>Dependents</th>\n",
       "      <th>(MonthlyCharges,)</th>\n",
       "      <th>tenure_grp_tenure_5-6_yr</th>\n",
       "      <th>tenure_grp_tenure_4-5_yr</th>\n",
       "      <th>Contract_Month-to-month</th>\n",
       "      <th>InternetService_Fiber optic</th>\n",
       "      <th>PaperlessBilling</th>\n",
       "      <th>SeniorCitizen</th>\n",
       "      <th>TechSupport_No</th>\n",
       "      <th>StreamingTV_Yes</th>\n",
       "      <th>PaymentMethod_Electronic check</th>\n",
       "      <th>StreamingMovies_Yes</th>\n",
       "    </tr>\n",
       "  </thead>\n",
       "  <tbody>\n",
       "    <tr>\n",
       "      <th>0</th>\n",
       "      <td>1.008133</td>\n",
       "      <td>0</td>\n",
       "      <td>0</td>\n",
       "      <td>1</td>\n",
       "      <td>0</td>\n",
       "      <td>1</td>\n",
       "      <td>0</td>\n",
       "      <td>1</td>\n",
       "      <td>0</td>\n",
       "      <td>-1.464831</td>\n",
       "      <td>0</td>\n",
       "      <td>1</td>\n",
       "      <td>0</td>\n",
       "      <td>0</td>\n",
       "      <td>0</td>\n",
       "      <td>0</td>\n",
       "      <td>0</td>\n",
       "      <td>0</td>\n",
       "      <td>0</td>\n",
       "      <td>0</td>\n",
       "    </tr>\n",
       "    <tr>\n",
       "      <th>1</th>\n",
       "      <td>-1.231772</td>\n",
       "      <td>0</td>\n",
       "      <td>1</td>\n",
       "      <td>0</td>\n",
       "      <td>0</td>\n",
       "      <td>0</td>\n",
       "      <td>1</td>\n",
       "      <td>1</td>\n",
       "      <td>0</td>\n",
       "      <td>-0.012824</td>\n",
       "      <td>0</td>\n",
       "      <td>0</td>\n",
       "      <td>1</td>\n",
       "      <td>0</td>\n",
       "      <td>1</td>\n",
       "      <td>0</td>\n",
       "      <td>0</td>\n",
       "      <td>0</td>\n",
       "      <td>0</td>\n",
       "      <td>1</td>\n",
       "    </tr>\n",
       "    <tr>\n",
       "      <th>2</th>\n",
       "      <td>-1.272497</td>\n",
       "      <td>0</td>\n",
       "      <td>1</td>\n",
       "      <td>0</td>\n",
       "      <td>0</td>\n",
       "      <td>0</td>\n",
       "      <td>0</td>\n",
       "      <td>1</td>\n",
       "      <td>0</td>\n",
       "      <td>0.208386</td>\n",
       "      <td>0</td>\n",
       "      <td>0</td>\n",
       "      <td>1</td>\n",
       "      <td>1</td>\n",
       "      <td>1</td>\n",
       "      <td>0</td>\n",
       "      <td>1</td>\n",
       "      <td>0</td>\n",
       "      <td>1</td>\n",
       "      <td>0</td>\n",
       "    </tr>\n",
       "    <tr>\n",
       "      <th>3</th>\n",
       "      <td>-0.335810</td>\n",
       "      <td>1</td>\n",
       "      <td>0</td>\n",
       "      <td>0</td>\n",
       "      <td>0</td>\n",
       "      <td>0</td>\n",
       "      <td>0</td>\n",
       "      <td>1</td>\n",
       "      <td>0</td>\n",
       "      <td>0.830437</td>\n",
       "      <td>0</td>\n",
       "      <td>0</td>\n",
       "      <td>1</td>\n",
       "      <td>1</td>\n",
       "      <td>1</td>\n",
       "      <td>0</td>\n",
       "      <td>1</td>\n",
       "      <td>0</td>\n",
       "      <td>1</td>\n",
       "      <td>1</td>\n",
       "    </tr>\n",
       "    <tr>\n",
       "      <th>4</th>\n",
       "      <td>1.415389</td>\n",
       "      <td>0</td>\n",
       "      <td>0</td>\n",
       "      <td>1</td>\n",
       "      <td>0</td>\n",
       "      <td>1</td>\n",
       "      <td>0</td>\n",
       "      <td>1</td>\n",
       "      <td>0</td>\n",
       "      <td>-1.494770</td>\n",
       "      <td>1</td>\n",
       "      <td>0</td>\n",
       "      <td>0</td>\n",
       "      <td>0</td>\n",
       "      <td>0</td>\n",
       "      <td>0</td>\n",
       "      <td>0</td>\n",
       "      <td>0</td>\n",
       "      <td>0</td>\n",
       "      <td>0</td>\n",
       "    </tr>\n",
       "    <tr>\n",
       "      <th>...</th>\n",
       "      <td>...</td>\n",
       "      <td>...</td>\n",
       "      <td>...</td>\n",
       "      <td>...</td>\n",
       "      <td>...</td>\n",
       "      <td>...</td>\n",
       "      <td>...</td>\n",
       "      <td>...</td>\n",
       "      <td>...</td>\n",
       "      <td>...</td>\n",
       "      <td>...</td>\n",
       "      <td>...</td>\n",
       "      <td>...</td>\n",
       "      <td>...</td>\n",
       "      <td>...</td>\n",
       "      <td>...</td>\n",
       "      <td>...</td>\n",
       "      <td>...</td>\n",
       "      <td>...</td>\n",
       "      <td>...</td>\n",
       "    </tr>\n",
       "    <tr>\n",
       "      <th>3984</th>\n",
       "      <td>-1.272497</td>\n",
       "      <td>0</td>\n",
       "      <td>1</td>\n",
       "      <td>0</td>\n",
       "      <td>0</td>\n",
       "      <td>1</td>\n",
       "      <td>0</td>\n",
       "      <td>1</td>\n",
       "      <td>0</td>\n",
       "      <td>-1.519718</td>\n",
       "      <td>0</td>\n",
       "      <td>0</td>\n",
       "      <td>1</td>\n",
       "      <td>0</td>\n",
       "      <td>0</td>\n",
       "      <td>0</td>\n",
       "      <td>0</td>\n",
       "      <td>0</td>\n",
       "      <td>0</td>\n",
       "      <td>0</td>\n",
       "    </tr>\n",
       "    <tr>\n",
       "      <th>3985</th>\n",
       "      <td>1.333938</td>\n",
       "      <td>0</td>\n",
       "      <td>0</td>\n",
       "      <td>0</td>\n",
       "      <td>0</td>\n",
       "      <td>1</td>\n",
       "      <td>0</td>\n",
       "      <td>0</td>\n",
       "      <td>0</td>\n",
       "      <td>-1.323456</td>\n",
       "      <td>1</td>\n",
       "      <td>0</td>\n",
       "      <td>0</td>\n",
       "      <td>0</td>\n",
       "      <td>0</td>\n",
       "      <td>0</td>\n",
       "      <td>0</td>\n",
       "      <td>0</td>\n",
       "      <td>0</td>\n",
       "      <td>0</td>\n",
       "    </tr>\n",
       "    <tr>\n",
       "      <th>3986</th>\n",
       "      <td>0.723055</td>\n",
       "      <td>0</td>\n",
       "      <td>0</td>\n",
       "      <td>0</td>\n",
       "      <td>0</td>\n",
       "      <td>0</td>\n",
       "      <td>0</td>\n",
       "      <td>0</td>\n",
       "      <td>1</td>\n",
       "      <td>1.375980</td>\n",
       "      <td>0</td>\n",
       "      <td>1</td>\n",
       "      <td>1</td>\n",
       "      <td>1</td>\n",
       "      <td>0</td>\n",
       "      <td>0</td>\n",
       "      <td>1</td>\n",
       "      <td>1</td>\n",
       "      <td>0</td>\n",
       "      <td>1</td>\n",
       "    </tr>\n",
       "    <tr>\n",
       "      <th>3987</th>\n",
       "      <td>-0.743065</td>\n",
       "      <td>1</td>\n",
       "      <td>0</td>\n",
       "      <td>0</td>\n",
       "      <td>0</td>\n",
       "      <td>0</td>\n",
       "      <td>1</td>\n",
       "      <td>0</td>\n",
       "      <td>1</td>\n",
       "      <td>0.527728</td>\n",
       "      <td>0</td>\n",
       "      <td>0</td>\n",
       "      <td>1</td>\n",
       "      <td>0</td>\n",
       "      <td>0</td>\n",
       "      <td>0</td>\n",
       "      <td>0</td>\n",
       "      <td>1</td>\n",
       "      <td>0</td>\n",
       "      <td>1</td>\n",
       "    </tr>\n",
       "    <tr>\n",
       "      <th>3988</th>\n",
       "      <td>1.293212</td>\n",
       "      <td>0</td>\n",
       "      <td>0</td>\n",
       "      <td>0</td>\n",
       "      <td>0</td>\n",
       "      <td>0</td>\n",
       "      <td>0</td>\n",
       "      <td>0</td>\n",
       "      <td>0</td>\n",
       "      <td>1.332735</td>\n",
       "      <td>1</td>\n",
       "      <td>0</td>\n",
       "      <td>0</td>\n",
       "      <td>1</td>\n",
       "      <td>1</td>\n",
       "      <td>0</td>\n",
       "      <td>0</td>\n",
       "      <td>1</td>\n",
       "      <td>0</td>\n",
       "      <td>1</td>\n",
       "    </tr>\n",
       "  </tbody>\n",
       "</table>\n",
       "<p>3989 rows × 20 columns</p>\n",
       "</div>"
      ],
      "text/plain": [
       "      (tenure,)  tenure_grp_tenure_1-2_yr  tenure_grp_tenure_0-1_yr  \\\n",
       "0      1.008133                         0                         0   \n",
       "1     -1.231772                         0                         1   \n",
       "2     -1.272497                         0                         1   \n",
       "3     -0.335810                         1                         0   \n",
       "4      1.415389                         0                         0   \n",
       "...         ...                       ...                       ...   \n",
       "3984  -1.272497                         0                         1   \n",
       "3985   1.333938                         0                         0   \n",
       "3986   0.723055                         0                         0   \n",
       "3987  -0.743065                         1                         0   \n",
       "3988   1.293212                         0                         0   \n",
       "\n",
       "      Contract_Two year  tenure_grp_tenure_2-3_yr  InternetService_No  \\\n",
       "0                     1                         0                   1   \n",
       "1                     0                         0                   0   \n",
       "2                     0                         0                   0   \n",
       "3                     0                         0                   0   \n",
       "4                     1                         0                   1   \n",
       "...                 ...                       ...                 ...   \n",
       "3984                  0                         0                   1   \n",
       "3985                  0                         0                   1   \n",
       "3986                  0                         0                   0   \n",
       "3987                  0                         0                   0   \n",
       "3988                  0                         0                   0   \n",
       "\n",
       "      InternetService_DSL  MultipleLines_No  Dependents  (MonthlyCharges,)  \\\n",
       "0                       0                 1           0          -1.464831   \n",
       "1                       1                 1           0          -0.012824   \n",
       "2                       0                 1           0           0.208386   \n",
       "3                       0                 1           0           0.830437   \n",
       "4                       0                 1           0          -1.494770   \n",
       "...                   ...               ...         ...                ...   \n",
       "3984                    0                 1           0          -1.519718   \n",
       "3985                    0                 0           0          -1.323456   \n",
       "3986                    0                 0           1           1.375980   \n",
       "3987                    1                 0           1           0.527728   \n",
       "3988                    0                 0           0           1.332735   \n",
       "\n",
       "      tenure_grp_tenure_5-6_yr  tenure_grp_tenure_4-5_yr  \\\n",
       "0                            0                         1   \n",
       "1                            0                         0   \n",
       "2                            0                         0   \n",
       "3                            0                         0   \n",
       "4                            1                         0   \n",
       "...                        ...                       ...   \n",
       "3984                         0                         0   \n",
       "3985                         1                         0   \n",
       "3986                         0                         1   \n",
       "3987                         0                         0   \n",
       "3988                         1                         0   \n",
       "\n",
       "      Contract_Month-to-month  InternetService_Fiber optic  PaperlessBilling  \\\n",
       "0                           0                            0                 0   \n",
       "1                           1                            0                 1   \n",
       "2                           1                            1                 1   \n",
       "3                           1                            1                 1   \n",
       "4                           0                            0                 0   \n",
       "...                       ...                          ...               ...   \n",
       "3984                        1                            0                 0   \n",
       "3985                        0                            0                 0   \n",
       "3986                        1                            1                 0   \n",
       "3987                        1                            0                 0   \n",
       "3988                        0                            1                 1   \n",
       "\n",
       "      SeniorCitizen  TechSupport_No  StreamingTV_Yes  \\\n",
       "0                 0               0                0   \n",
       "1                 0               0                0   \n",
       "2                 0               1                0   \n",
       "3                 0               1                0   \n",
       "4                 0               0                0   \n",
       "...             ...             ...              ...   \n",
       "3984              0               0                0   \n",
       "3985              0               0                0   \n",
       "3986              0               1                1   \n",
       "3987              0               0                1   \n",
       "3988              0               0                1   \n",
       "\n",
       "      PaymentMethod_Electronic check  StreamingMovies_Yes  \n",
       "0                                  0                    0  \n",
       "1                                  0                    1  \n",
       "2                                  1                    0  \n",
       "3                                  1                    1  \n",
       "4                                  0                    0  \n",
       "...                              ...                  ...  \n",
       "3984                               0                    0  \n",
       "3985                               0                    0  \n",
       "3986                               0                    1  \n",
       "3987                               0                    1  \n",
       "3988                               0                    1  \n",
       "\n",
       "[3989 rows x 20 columns]"
      ]
     },
     "execution_count": 92,
     "metadata": {},
     "output_type": "execute_result"
    }
   ],
   "source": [
    "X_train[lst+lst1]"
   ]
  },
  {
   "cell_type": "code",
   "execution_count": 93,
   "metadata": {},
   "outputs": [
    {
     "name": "stdout",
     "output_type": "stream",
     "text": [
      "0.8092253697668589\n",
      "0.8057837660203746\n",
      "              precision    recall  f1-score   support\n",
      "\n",
      "           0       0.84      0.91      0.87      2226\n",
      "           1       0.68      0.53      0.59       817\n",
      "\n",
      "    accuracy                           0.81      3043\n",
      "   macro avg       0.76      0.72      0.73      3043\n",
      "weighted avg       0.80      0.81      0.80      3043\n",
      "\n"
     ]
    },
    {
     "data": {
      "image/png": "[encoded data removed]",
      "text/plain": [
       "<Figure size 432x288 with 1 Axes>"
      ]
     },
     "metadata": {
      "needs_background": "light"
     },
     "output_type": "display_data"
    },
    {
     "data": {
      "image/png": "[encoded data removed]",
      "text/plain": [
       "<Figure size 432x288 with 1 Axes>"
      ]
     },
     "metadata": {
      "needs_background": "light"
     },
     "output_type": "display_data"
    }
   ],
   "source": [
    "lr=LogisticRegression()\n",
    "lr.fit(X_train[col],y_train)\n",
    "print(lr.score(X_train[col],y_train))\n",
    "print(lr.score(X_val[col],y_val))\n",
    "plot_roc_curve(lr,X_train[col],y_train)\n",
    "plot_roc_curve(lr,X_val[col],y_val)\n",
    "print(classification_report(y_val,lr.predict(X_val[col])))"
   ]
  },
  {
   "cell_type": "markdown",
   "metadata": {},
   "source": [
    "Tensure between 5-6 yrs and 4-5 yrs having a positive coefficient does not make sense because the customers having a longer tenure should have low churning rate due to loyalty compared to tenure 1-2years which should have churning rate as they are new.\n",
    "\n",
    "\n"
   ]
  },
  {
   "cell_type": "markdown",
   "metadata": {},
   "source": [
    "# Model Evaluation"
   ]
  },
  {
   "cell_type": "markdown",
   "metadata": {},
   "source": [
    "We will use Logistic Regression for futher evaluation"
   ]
  },
  {
   "cell_type": "markdown",
   "metadata": {},
   "source": [
    "As our dataset is highly imbalanced rather than using accuracy as our metric, we should use AUC,confusion matrix,precision recall etc."
   ]
  },
  {
   "cell_type": "code",
   "execution_count": 96,
   "metadata": {},
   "outputs": [
    {
     "data": {
      "text/plain": [
       "<sklearn.metrics._plot.confusion_matrix.ConfusionMatrixDisplay at 0x1ab846792b0>"
      ]
     },
     "execution_count": 96,
     "metadata": {},
     "output_type": "execute_result"
    },
    {
     "data": {
      "image/png": "[encoded data removed]",
      "text/plain": [
       "<Figure size 432x288 with 2 Axes>"
      ]
     },
     "metadata": {
      "needs_background": "light"
     },
     "output_type": "display_data"
    }
   ],
   "source": [
    "plot_confusion_matrix(lr,X_val[col],y_val,)\n"
   ]
  },
  {
   "cell_type": "markdown",
   "metadata": {},
   "source": [
    "True Positive=432\n",
    "\n",
    "False Postive=206\n",
    "\n",
    "True Negative=2020\n",
    "\n",
    "False Negative=365"
   ]
  },
  {
   "cell_type": "code",
   "execution_count": 100,
   "metadata": {},
   "outputs": [
    {
     "name": "stdout",
     "output_type": "stream",
     "text": [
      "              precision    recall  f1-score   support\n",
      "\n",
      "           0       0.84      0.91      0.87      2226\n",
      "           1       0.68      0.53      0.59       817\n",
      "\n",
      "    accuracy                           0.81      3043\n",
      "   macro avg       0.76      0.72      0.73      3043\n",
      "weighted avg       0.80      0.81      0.80      3043\n",
      "\n"
     ]
    }
   ],
   "source": [
    "print(classification_report(y_val,lr.predict(X_val[col])))"
   ]
  },
  {
   "cell_type": "code",
   "execution_count": 102,
   "metadata": {},
   "outputs": [
    {
     "data": {
      "text/plain": [
       "<sklearn.metrics._plot.roc_curve.RocCurveDisplay at 0x1abfcb3f400>"
      ]
     },
     "execution_count": 102,
     "metadata": {},
     "output_type": "execute_result"
    },
    {
     "data": {
      "image/png": "[encoded data removed]",
      "text/plain": [
       "<Figure size 432x288 with 1 Axes>"
      ]
     },
     "metadata": {
      "needs_background": "light"
     },
     "output_type": "display_data"
    }
   ],
   "source": [
    "plot_roc_curve(lr,X_val[col],y_val)"
   ]
  },
  {
   "cell_type": "markdown",
   "metadata": {},
   "source": [
    "We got an AUC of 0.85"
   ]
  },
  {
   "cell_type": "markdown",
   "metadata": {},
   "source": [
    "### Final Conclusions"
   ]
  },
  {
   "cell_type": "markdown",
   "metadata": {},
   "source": [
    "Solutions:\n",
    "\n",
    "1) Firstly the company  should convince users to sign up for additional products  like online security,backup etc, by using fancy advertisement ,personalized emails,SMS marketing and different marketing techniques,ensuring increase in revenue and at the same time it will increase the tenure of the user to a large extent.\n",
    "\n",
    "2) Nextly the company should focus on an effective and efficient feedback system.This will help the company collect more data for analysis and at the same time help the company to identify the problems for increase in churning rate and also provide tech services in the initial stage of tenure.\n",
    "\n",
    "3) The company should come up with new yearly plans and promote these plans so that the monthly user can opt for these plans thereby increasing the tenure.\n",
    "\n"
   ]
  }
 ],
 "metadata": {
  "kernelspec": {
   "display_name": "Python 3",
   "language": "python",
   "name": "python3"
  },
  "language_info": {
   "codemirror_mode": {
    "name": "ipython",
    "version": 3
   },
   "file_extension": ".py",
   "mimetype": "text/x-python",
   "name": "python",
   "nbconvert_exporter": "python",
   "pygments_lexer": "ipython3",
   "version": "3.8.3"
  }
 },
 "nbformat": 4,
 "nbformat_minor": 2
}
